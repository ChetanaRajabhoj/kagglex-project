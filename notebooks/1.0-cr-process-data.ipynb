{
  "cells": [
    {
      "cell_type": "code",
      "execution_count": 4,
      "metadata": {
        "colab": {
          "base_uri": "https://localhost:8080/"
        },
        "id": "iJNIenpnIiOJ",
        "outputId": "1f8d0637-1adb-40fc-c79a-796c8defe1ed"
      },
      "outputs": [
        {
          "output_type": "stream",
          "name": "stdout",
          "text": [
            "Mounted at /content/drive\n"
          ]
        }
      ],
      "source": [
        "import numpy as np\n",
        "import pandas as pd\n",
        "\n",
        "from google.colab import drive\n",
        "drive.mount('/content/drive')"
      ]
    },
    {
      "cell_type": "code",
      "source": [
        "%cd /content/drive/MyDrive/Github/"
      ],
      "metadata": {
        "id": "tZEGR4yGNo37",
        "outputId": "e8066c07-0184-4791-a90b-c10259fd4763",
        "colab": {
          "base_uri": "https://localhost:8080/"
        }
      },
      "execution_count": 6,
      "outputs": [
        {
          "output_type": "stream",
          "name": "stdout",
          "text": [
            "/content/drive/MyDrive/Github\n"
          ]
        }
      ]
    },
    {
      "cell_type": "code",
      "execution_count": 2,
      "metadata": {
        "colab": {
          "base_uri": "https://localhost:8080/",
          "height": 380
        },
        "id": "ZDpbX8LdIiOS",
        "outputId": "ce5bd7ec-a14c-49a4-fe99-29503a5e8933"
      },
      "outputs": [
        {
          "output_type": "error",
          "ename": "FileNotFoundError",
          "evalue": "ignored",
          "traceback": [
            "\u001b[0;31m---------------------------------------------------------------------------\u001b[0m",
            "\u001b[0;31mFileNotFoundError\u001b[0m                         Traceback (most recent call last)",
            "\u001b[0;32m<ipython-input-2-e32c1640f5f6>\u001b[0m in \u001b[0;36m<module>\u001b[0;34m\u001b[0m\n\u001b[0;32m----> 1\u001b[0;31m \u001b[0mdfcpu\u001b[0m \u001b[0;34m=\u001b[0m \u001b[0mpd\u001b[0m\u001b[0;34m.\u001b[0m\u001b[0mread_csv\u001b[0m\u001b[0;34m(\u001b[0m\u001b[0;34m'../data/raw/cpu4.csv'\u001b[0m\u001b[0;34m)\u001b[0m\u001b[0;34m\u001b[0m\u001b[0;34m\u001b[0m\u001b[0m\n\u001b[0m\u001b[1;32m      2\u001b[0m \u001b[0mdfcpu\u001b[0m \u001b[0;34m=\u001b[0m \u001b[0mdfcpu\u001b[0m\u001b[0;34m.\u001b[0m\u001b[0msort_values\u001b[0m\u001b[0;34m(\u001b[0m\u001b[0mby\u001b[0m\u001b[0;34m=\u001b[0m\u001b[0;34m'timestamp'\u001b[0m\u001b[0;34m,\u001b[0m \u001b[0mascending\u001b[0m\u001b[0;34m=\u001b[0m\u001b[0;32mTrue\u001b[0m\u001b[0;34m)\u001b[0m\u001b[0;34m\u001b[0m\u001b[0;34m\u001b[0m\u001b[0m\n\u001b[1;32m      3\u001b[0m \u001b[0mdfcpu\u001b[0m\u001b[0;34m[\u001b[0m\u001b[0;34m'datetime'\u001b[0m\u001b[0;34m]\u001b[0m \u001b[0;34m=\u001b[0m \u001b[0mpd\u001b[0m\u001b[0;34m.\u001b[0m\u001b[0mto_datetime\u001b[0m\u001b[0;34m(\u001b[0m\u001b[0mdfcpu\u001b[0m\u001b[0;34m[\u001b[0m\u001b[0;34m'timestamp'\u001b[0m\u001b[0;34m]\u001b[0m\u001b[0;34m,\u001b[0m\u001b[0munit\u001b[0m\u001b[0;34m=\u001b[0m\u001b[0;34m's'\u001b[0m\u001b[0;34m)\u001b[0m\u001b[0;34m\u001b[0m\u001b[0;34m\u001b[0m\u001b[0m\n\u001b[1;32m      4\u001b[0m \u001b[0mdfcpu\u001b[0m\u001b[0;34m[\u001b[0m\u001b[0;34m'date'\u001b[0m\u001b[0;34m]\u001b[0m \u001b[0;34m=\u001b[0m \u001b[0mdfcpu\u001b[0m\u001b[0;34m[\u001b[0m\u001b[0;34m'datetime'\u001b[0m\u001b[0;34m]\u001b[0m\u001b[0;34m.\u001b[0m\u001b[0mdt\u001b[0m\u001b[0;34m.\u001b[0m\u001b[0mdate\u001b[0m\u001b[0;34m\u001b[0m\u001b[0;34m\u001b[0m\u001b[0m\n\u001b[1;32m      5\u001b[0m \u001b[0mdfcpu\u001b[0m\u001b[0;34m[\u001b[0m\u001b[0;34m'time'\u001b[0m\u001b[0;34m]\u001b[0m \u001b[0;34m=\u001b[0m \u001b[0mdfcpu\u001b[0m\u001b[0;34m[\u001b[0m\u001b[0;34m'datetime'\u001b[0m\u001b[0;34m]\u001b[0m\u001b[0;34m.\u001b[0m\u001b[0mdt\u001b[0m\u001b[0;34m.\u001b[0m\u001b[0mtime\u001b[0m\u001b[0;34m\u001b[0m\u001b[0;34m\u001b[0m\u001b[0m\n",
            "\u001b[0;32m/usr/local/lib/python3.8/dist-packages/pandas/util/_decorators.py\u001b[0m in \u001b[0;36mwrapper\u001b[0;34m(*args, **kwargs)\u001b[0m\n\u001b[1;32m    309\u001b[0m                     \u001b[0mstacklevel\u001b[0m\u001b[0;34m=\u001b[0m\u001b[0mstacklevel\u001b[0m\u001b[0;34m,\u001b[0m\u001b[0;34m\u001b[0m\u001b[0;34m\u001b[0m\u001b[0m\n\u001b[1;32m    310\u001b[0m                 )\n\u001b[0;32m--> 311\u001b[0;31m             \u001b[0;32mreturn\u001b[0m \u001b[0mfunc\u001b[0m\u001b[0;34m(\u001b[0m\u001b[0;34m*\u001b[0m\u001b[0margs\u001b[0m\u001b[0;34m,\u001b[0m \u001b[0;34m**\u001b[0m\u001b[0mkwargs\u001b[0m\u001b[0;34m)\u001b[0m\u001b[0;34m\u001b[0m\u001b[0;34m\u001b[0m\u001b[0m\n\u001b[0m\u001b[1;32m    312\u001b[0m \u001b[0;34m\u001b[0m\u001b[0m\n\u001b[1;32m    313\u001b[0m         \u001b[0;32mreturn\u001b[0m \u001b[0mwrapper\u001b[0m\u001b[0;34m\u001b[0m\u001b[0;34m\u001b[0m\u001b[0m\n",
            "\u001b[0;32m/usr/local/lib/python3.8/dist-packages/pandas/io/parsers/readers.py\u001b[0m in \u001b[0;36mread_csv\u001b[0;34m(filepath_or_buffer, sep, delimiter, header, names, index_col, usecols, squeeze, prefix, mangle_dupe_cols, dtype, engine, converters, true_values, false_values, skipinitialspace, skiprows, skipfooter, nrows, na_values, keep_default_na, na_filter, verbose, skip_blank_lines, parse_dates, infer_datetime_format, keep_date_col, date_parser, dayfirst, cache_dates, iterator, chunksize, compression, thousands, decimal, lineterminator, quotechar, quoting, doublequote, escapechar, comment, encoding, encoding_errors, dialect, error_bad_lines, warn_bad_lines, on_bad_lines, delim_whitespace, low_memory, memory_map, float_precision, storage_options)\u001b[0m\n\u001b[1;32m    584\u001b[0m     \u001b[0mkwds\u001b[0m\u001b[0;34m.\u001b[0m\u001b[0mupdate\u001b[0m\u001b[0;34m(\u001b[0m\u001b[0mkwds_defaults\u001b[0m\u001b[0;34m)\u001b[0m\u001b[0;34m\u001b[0m\u001b[0;34m\u001b[0m\u001b[0m\n\u001b[1;32m    585\u001b[0m \u001b[0;34m\u001b[0m\u001b[0m\n\u001b[0;32m--> 586\u001b[0;31m     \u001b[0;32mreturn\u001b[0m \u001b[0m_read\u001b[0m\u001b[0;34m(\u001b[0m\u001b[0mfilepath_or_buffer\u001b[0m\u001b[0;34m,\u001b[0m \u001b[0mkwds\u001b[0m\u001b[0;34m)\u001b[0m\u001b[0;34m\u001b[0m\u001b[0;34m\u001b[0m\u001b[0m\n\u001b[0m\u001b[1;32m    587\u001b[0m \u001b[0;34m\u001b[0m\u001b[0m\n\u001b[1;32m    588\u001b[0m \u001b[0;34m\u001b[0m\u001b[0m\n",
            "\u001b[0;32m/usr/local/lib/python3.8/dist-packages/pandas/io/parsers/readers.py\u001b[0m in \u001b[0;36m_read\u001b[0;34m(filepath_or_buffer, kwds)\u001b[0m\n\u001b[1;32m    480\u001b[0m \u001b[0;34m\u001b[0m\u001b[0m\n\u001b[1;32m    481\u001b[0m     \u001b[0;31m# Create the parser.\u001b[0m\u001b[0;34m\u001b[0m\u001b[0;34m\u001b[0m\u001b[0;34m\u001b[0m\u001b[0m\n\u001b[0;32m--> 482\u001b[0;31m     \u001b[0mparser\u001b[0m \u001b[0;34m=\u001b[0m \u001b[0mTextFileReader\u001b[0m\u001b[0;34m(\u001b[0m\u001b[0mfilepath_or_buffer\u001b[0m\u001b[0;34m,\u001b[0m \u001b[0;34m**\u001b[0m\u001b[0mkwds\u001b[0m\u001b[0;34m)\u001b[0m\u001b[0;34m\u001b[0m\u001b[0;34m\u001b[0m\u001b[0m\n\u001b[0m\u001b[1;32m    483\u001b[0m \u001b[0;34m\u001b[0m\u001b[0m\n\u001b[1;32m    484\u001b[0m     \u001b[0;32mif\u001b[0m \u001b[0mchunksize\u001b[0m \u001b[0;32mor\u001b[0m \u001b[0miterator\u001b[0m\u001b[0;34m:\u001b[0m\u001b[0;34m\u001b[0m\u001b[0;34m\u001b[0m\u001b[0m\n",
            "\u001b[0;32m/usr/local/lib/python3.8/dist-packages/pandas/io/parsers/readers.py\u001b[0m in \u001b[0;36m__init__\u001b[0;34m(self, f, engine, **kwds)\u001b[0m\n\u001b[1;32m    809\u001b[0m             \u001b[0mself\u001b[0m\u001b[0;34m.\u001b[0m\u001b[0moptions\u001b[0m\u001b[0;34m[\u001b[0m\u001b[0;34m\"has_index_names\"\u001b[0m\u001b[0;34m]\u001b[0m \u001b[0;34m=\u001b[0m \u001b[0mkwds\u001b[0m\u001b[0;34m[\u001b[0m\u001b[0;34m\"has_index_names\"\u001b[0m\u001b[0;34m]\u001b[0m\u001b[0;34m\u001b[0m\u001b[0;34m\u001b[0m\u001b[0m\n\u001b[1;32m    810\u001b[0m \u001b[0;34m\u001b[0m\u001b[0m\n\u001b[0;32m--> 811\u001b[0;31m         \u001b[0mself\u001b[0m\u001b[0;34m.\u001b[0m\u001b[0m_engine\u001b[0m \u001b[0;34m=\u001b[0m \u001b[0mself\u001b[0m\u001b[0;34m.\u001b[0m\u001b[0m_make_engine\u001b[0m\u001b[0;34m(\u001b[0m\u001b[0mself\u001b[0m\u001b[0;34m.\u001b[0m\u001b[0mengine\u001b[0m\u001b[0;34m)\u001b[0m\u001b[0;34m\u001b[0m\u001b[0;34m\u001b[0m\u001b[0m\n\u001b[0m\u001b[1;32m    812\u001b[0m \u001b[0;34m\u001b[0m\u001b[0m\n\u001b[1;32m    813\u001b[0m     \u001b[0;32mdef\u001b[0m \u001b[0mclose\u001b[0m\u001b[0;34m(\u001b[0m\u001b[0mself\u001b[0m\u001b[0;34m)\u001b[0m\u001b[0;34m:\u001b[0m\u001b[0;34m\u001b[0m\u001b[0;34m\u001b[0m\u001b[0m\n",
            "\u001b[0;32m/usr/local/lib/python3.8/dist-packages/pandas/io/parsers/readers.py\u001b[0m in \u001b[0;36m_make_engine\u001b[0;34m(self, engine)\u001b[0m\n\u001b[1;32m   1038\u001b[0m             )\n\u001b[1;32m   1039\u001b[0m         \u001b[0;31m# error: Too many arguments for \"ParserBase\"\u001b[0m\u001b[0;34m\u001b[0m\u001b[0;34m\u001b[0m\u001b[0;34m\u001b[0m\u001b[0m\n\u001b[0;32m-> 1040\u001b[0;31m         \u001b[0;32mreturn\u001b[0m \u001b[0mmapping\u001b[0m\u001b[0;34m[\u001b[0m\u001b[0mengine\u001b[0m\u001b[0;34m]\u001b[0m\u001b[0;34m(\u001b[0m\u001b[0mself\u001b[0m\u001b[0;34m.\u001b[0m\u001b[0mf\u001b[0m\u001b[0;34m,\u001b[0m \u001b[0;34m**\u001b[0m\u001b[0mself\u001b[0m\u001b[0;34m.\u001b[0m\u001b[0moptions\u001b[0m\u001b[0;34m)\u001b[0m  \u001b[0;31m# type: ignore[call-arg]\u001b[0m\u001b[0;34m\u001b[0m\u001b[0;34m\u001b[0m\u001b[0m\n\u001b[0m\u001b[1;32m   1041\u001b[0m \u001b[0;34m\u001b[0m\u001b[0m\n\u001b[1;32m   1042\u001b[0m     \u001b[0;32mdef\u001b[0m \u001b[0m_failover_to_python\u001b[0m\u001b[0;34m(\u001b[0m\u001b[0mself\u001b[0m\u001b[0;34m)\u001b[0m\u001b[0;34m:\u001b[0m\u001b[0;34m\u001b[0m\u001b[0;34m\u001b[0m\u001b[0m\n",
            "\u001b[0;32m/usr/local/lib/python3.8/dist-packages/pandas/io/parsers/c_parser_wrapper.py\u001b[0m in \u001b[0;36m__init__\u001b[0;34m(self, src, **kwds)\u001b[0m\n\u001b[1;32m     49\u001b[0m \u001b[0;34m\u001b[0m\u001b[0m\n\u001b[1;32m     50\u001b[0m         \u001b[0;31m# open handles\u001b[0m\u001b[0;34m\u001b[0m\u001b[0;34m\u001b[0m\u001b[0;34m\u001b[0m\u001b[0m\n\u001b[0;32m---> 51\u001b[0;31m         \u001b[0mself\u001b[0m\u001b[0;34m.\u001b[0m\u001b[0m_open_handles\u001b[0m\u001b[0;34m(\u001b[0m\u001b[0msrc\u001b[0m\u001b[0;34m,\u001b[0m \u001b[0mkwds\u001b[0m\u001b[0;34m)\u001b[0m\u001b[0;34m\u001b[0m\u001b[0;34m\u001b[0m\u001b[0m\n\u001b[0m\u001b[1;32m     52\u001b[0m         \u001b[0;32massert\u001b[0m \u001b[0mself\u001b[0m\u001b[0;34m.\u001b[0m\u001b[0mhandles\u001b[0m \u001b[0;32mis\u001b[0m \u001b[0;32mnot\u001b[0m \u001b[0;32mNone\u001b[0m\u001b[0;34m\u001b[0m\u001b[0;34m\u001b[0m\u001b[0m\n\u001b[1;32m     53\u001b[0m \u001b[0;34m\u001b[0m\u001b[0m\n",
            "\u001b[0;32m/usr/local/lib/python3.8/dist-packages/pandas/io/parsers/base_parser.py\u001b[0m in \u001b[0;36m_open_handles\u001b[0;34m(self, src, kwds)\u001b[0m\n\u001b[1;32m    220\u001b[0m         \u001b[0mLet\u001b[0m \u001b[0mthe\u001b[0m \u001b[0mreaders\u001b[0m \u001b[0mopen\u001b[0m \u001b[0mIOHandles\u001b[0m \u001b[0mafter\u001b[0m \u001b[0mthey\u001b[0m \u001b[0mare\u001b[0m \u001b[0mdone\u001b[0m \u001b[0;32mwith\u001b[0m \u001b[0mtheir\u001b[0m \u001b[0mpotential\u001b[0m \u001b[0mraises\u001b[0m\u001b[0;34m.\u001b[0m\u001b[0;34m\u001b[0m\u001b[0;34m\u001b[0m\u001b[0m\n\u001b[1;32m    221\u001b[0m         \"\"\"\n\u001b[0;32m--> 222\u001b[0;31m         self.handles = get_handle(\n\u001b[0m\u001b[1;32m    223\u001b[0m             \u001b[0msrc\u001b[0m\u001b[0;34m,\u001b[0m\u001b[0;34m\u001b[0m\u001b[0;34m\u001b[0m\u001b[0m\n\u001b[1;32m    224\u001b[0m             \u001b[0;34m\"r\"\u001b[0m\u001b[0;34m,\u001b[0m\u001b[0;34m\u001b[0m\u001b[0;34m\u001b[0m\u001b[0m\n",
            "\u001b[0;32m/usr/local/lib/python3.8/dist-packages/pandas/io/common.py\u001b[0m in \u001b[0;36mget_handle\u001b[0;34m(path_or_buf, mode, encoding, compression, memory_map, is_text, errors, storage_options)\u001b[0m\n\u001b[1;32m    700\u001b[0m         \u001b[0;32mif\u001b[0m \u001b[0mioargs\u001b[0m\u001b[0;34m.\u001b[0m\u001b[0mencoding\u001b[0m \u001b[0;32mand\u001b[0m \u001b[0;34m\"b\"\u001b[0m \u001b[0;32mnot\u001b[0m \u001b[0;32min\u001b[0m \u001b[0mioargs\u001b[0m\u001b[0;34m.\u001b[0m\u001b[0mmode\u001b[0m\u001b[0;34m:\u001b[0m\u001b[0;34m\u001b[0m\u001b[0;34m\u001b[0m\u001b[0m\n\u001b[1;32m    701\u001b[0m             \u001b[0;31m# Encoding\u001b[0m\u001b[0;34m\u001b[0m\u001b[0;34m\u001b[0m\u001b[0;34m\u001b[0m\u001b[0m\n\u001b[0;32m--> 702\u001b[0;31m             handle = open(\n\u001b[0m\u001b[1;32m    703\u001b[0m                 \u001b[0mhandle\u001b[0m\u001b[0;34m,\u001b[0m\u001b[0;34m\u001b[0m\u001b[0;34m\u001b[0m\u001b[0m\n\u001b[1;32m    704\u001b[0m                 \u001b[0mioargs\u001b[0m\u001b[0;34m.\u001b[0m\u001b[0mmode\u001b[0m\u001b[0;34m,\u001b[0m\u001b[0;34m\u001b[0m\u001b[0;34m\u001b[0m\u001b[0m\n",
            "\u001b[0;31mFileNotFoundError\u001b[0m: [Errno 2] No such file or directory: '../data/raw/cpu4.csv'"
          ]
        }
      ],
      "source": [
        "dfcpu = pd.read_csv('../data/raw/cpu4.csv')\n",
        "dfcpu = dfcpu.sort_values(by='timestamp', ascending=True)\n",
        "dfcpu['datetime'] = pd.to_datetime(dfcpu['timestamp'],unit='s')\n",
        "dfcpu['date'] = dfcpu['datetime'].dt.date\n",
        "dfcpu['time'] = dfcpu['datetime'].dt.time\n",
        "dfcpu['month'] = dfcpu['datetime'].dt.month_name()\n",
        "dfcpu['day'] = dfcpu['datetime'].dt.day_name()\n",
        "dfcpu['hour'] = dfcpu['datetime'].dt.hour\n",
        "dfcpu['minute'] = dfcpu['datetime'].dt.minute\n",
        "\n",
        "dfcpu.to_csv('../data/processed/cpu4.csv', index= False)\n",
        "# dfcpu = dfcpu.replace({'label': {0.0: False, 1.0: True}})\n"
      ]
    },
    {
      "cell_type": "code",
      "execution_count": null,
      "metadata": {
        "id": "ur3IpxWcIiOU",
        "outputId": "a0beef89-c594-4cac-f5ea-bbed5e91fb6f"
      },
      "outputs": [
        {
          "data": {
            "text/html": [
              "<div>\n",
              "<style scoped>\n",
              "    .dataframe tbody tr th:only-of-type {\n",
              "        vertical-align: middle;\n",
              "    }\n",
              "\n",
              "    .dataframe tbody tr th {\n",
              "        vertical-align: top;\n",
              "    }\n",
              "\n",
              "    .dataframe thead th {\n",
              "        text-align: right;\n",
              "    }\n",
              "</style>\n",
              "<table border=\"1\" class=\"dataframe\">\n",
              "  <thead>\n",
              "    <tr style=\"text-align: right;\">\n",
              "      <th></th>\n",
              "      <th>timestamp</th>\n",
              "      <th>value</th>\n",
              "      <th>label</th>\n",
              "      <th>date</th>\n",
              "      <th>time</th>\n",
              "      <th>month</th>\n",
              "      <th>day</th>\n",
              "      <th>hour</th>\n",
              "      <th>minute</th>\n",
              "    </tr>\n",
              "    <tr>\n",
              "      <th>datetime</th>\n",
              "      <th></th>\n",
              "      <th></th>\n",
              "      <th></th>\n",
              "      <th></th>\n",
              "      <th></th>\n",
              "      <th></th>\n",
              "      <th></th>\n",
              "      <th></th>\n",
              "      <th></th>\n",
              "    </tr>\n",
              "  </thead>\n",
              "  <tbody>\n",
              "    <tr>\n",
              "      <th>2016-07-24 16:00:00</th>\n",
              "      <td>1469376000</td>\n",
              "      <td>0.847300</td>\n",
              "      <td>0</td>\n",
              "      <td>2016-07-24</td>\n",
              "      <td>16:00:00</td>\n",
              "      <td>July</td>\n",
              "      <td>Sunday</td>\n",
              "      <td>16</td>\n",
              "      <td>0</td>\n",
              "    </tr>\n",
              "    <tr>\n",
              "      <th>2016-07-24 16:05:00</th>\n",
              "      <td>1469376300</td>\n",
              "      <td>-0.036137</td>\n",
              "      <td>0</td>\n",
              "      <td>2016-07-24</td>\n",
              "      <td>16:05:00</td>\n",
              "      <td>July</td>\n",
              "      <td>Sunday</td>\n",
              "      <td>16</td>\n",
              "      <td>5</td>\n",
              "    </tr>\n",
              "    <tr>\n",
              "      <th>2016-07-24 16:10:00</th>\n",
              "      <td>1469376600</td>\n",
              "      <td>0.074292</td>\n",
              "      <td>0</td>\n",
              "      <td>2016-07-24</td>\n",
              "      <td>16:10:00</td>\n",
              "      <td>July</td>\n",
              "      <td>Sunday</td>\n",
              "      <td>16</td>\n",
              "      <td>10</td>\n",
              "    </tr>\n",
              "    <tr>\n",
              "      <th>2016-07-24 16:15:00</th>\n",
              "      <td>1469376900</td>\n",
              "      <td>0.074292</td>\n",
              "      <td>0</td>\n",
              "      <td>2016-07-24</td>\n",
              "      <td>16:15:00</td>\n",
              "      <td>July</td>\n",
              "      <td>Sunday</td>\n",
              "      <td>16</td>\n",
              "      <td>15</td>\n",
              "    </tr>\n",
              "    <tr>\n",
              "      <th>2016-07-24 16:20:00</th>\n",
              "      <td>1469377200</td>\n",
              "      <td>-0.036137</td>\n",
              "      <td>0</td>\n",
              "      <td>2016-07-24</td>\n",
              "      <td>16:20:00</td>\n",
              "      <td>July</td>\n",
              "      <td>Sunday</td>\n",
              "      <td>16</td>\n",
              "      <td>20</td>\n",
              "    </tr>\n",
              "    <tr>\n",
              "      <th>...</th>\n",
              "      <td>...</td>\n",
              "      <td>...</td>\n",
              "      <td>...</td>\n",
              "      <td>...</td>\n",
              "      <td>...</td>\n",
              "      <td>...</td>\n",
              "      <td>...</td>\n",
              "      <td>...</td>\n",
              "      <td>...</td>\n",
              "    </tr>\n",
              "    <tr>\n",
              "      <th>2016-09-23 15:35:00</th>\n",
              "      <td>1474644900</td>\n",
              "      <td>0.074292</td>\n",
              "      <td>0</td>\n",
              "      <td>2016-09-23</td>\n",
              "      <td>15:35:00</td>\n",
              "      <td>September</td>\n",
              "      <td>Friday</td>\n",
              "      <td>15</td>\n",
              "      <td>35</td>\n",
              "    </tr>\n",
              "    <tr>\n",
              "      <th>2016-09-23 15:40:00</th>\n",
              "      <td>1474645200</td>\n",
              "      <td>0.295152</td>\n",
              "      <td>0</td>\n",
              "      <td>2016-09-23</td>\n",
              "      <td>15:40:00</td>\n",
              "      <td>September</td>\n",
              "      <td>Friday</td>\n",
              "      <td>15</td>\n",
              "      <td>40</td>\n",
              "    </tr>\n",
              "    <tr>\n",
              "      <th>2016-09-23 15:45:00</th>\n",
              "      <td>1474645500</td>\n",
              "      <td>0.074292</td>\n",
              "      <td>0</td>\n",
              "      <td>2016-09-23</td>\n",
              "      <td>15:45:00</td>\n",
              "      <td>September</td>\n",
              "      <td>Friday</td>\n",
              "      <td>15</td>\n",
              "      <td>45</td>\n",
              "    </tr>\n",
              "    <tr>\n",
              "      <th>2016-09-23 15:50:00</th>\n",
              "      <td>1474645800</td>\n",
              "      <td>-0.146567</td>\n",
              "      <td>0</td>\n",
              "      <td>2016-09-23</td>\n",
              "      <td>15:50:00</td>\n",
              "      <td>September</td>\n",
              "      <td>Friday</td>\n",
              "      <td>15</td>\n",
              "      <td>50</td>\n",
              "    </tr>\n",
              "    <tr>\n",
              "      <th>2016-09-23 15:55:00</th>\n",
              "      <td>1474646100</td>\n",
              "      <td>-0.036137</td>\n",
              "      <td>0</td>\n",
              "      <td>2016-09-23</td>\n",
              "      <td>15:55:00</td>\n",
              "      <td>September</td>\n",
              "      <td>Friday</td>\n",
              "      <td>15</td>\n",
              "      <td>55</td>\n",
              "    </tr>\n",
              "  </tbody>\n",
              "</table>\n",
              "<p>17568 rows × 9 columns</p>\n",
              "</div>"
            ],
            "text/plain": [
              "                      timestamp     value  label        date      time  \\\n",
              "datetime                                                                 \n",
              "2016-07-24 16:00:00  1469376000  0.847300      0  2016-07-24  16:00:00   \n",
              "2016-07-24 16:05:00  1469376300 -0.036137      0  2016-07-24  16:05:00   \n",
              "2016-07-24 16:10:00  1469376600  0.074292      0  2016-07-24  16:10:00   \n",
              "2016-07-24 16:15:00  1469376900  0.074292      0  2016-07-24  16:15:00   \n",
              "2016-07-24 16:20:00  1469377200 -0.036137      0  2016-07-24  16:20:00   \n",
              "...                         ...       ...    ...         ...       ...   \n",
              "2016-09-23 15:35:00  1474644900  0.074292      0  2016-09-23  15:35:00   \n",
              "2016-09-23 15:40:00  1474645200  0.295152      0  2016-09-23  15:40:00   \n",
              "2016-09-23 15:45:00  1474645500  0.074292      0  2016-09-23  15:45:00   \n",
              "2016-09-23 15:50:00  1474645800 -0.146567      0  2016-09-23  15:50:00   \n",
              "2016-09-23 15:55:00  1474646100 -0.036137      0  2016-09-23  15:55:00   \n",
              "\n",
              "                         month     day  hour  minute  \n",
              "datetime                                              \n",
              "2016-07-24 16:00:00       July  Sunday    16       0  \n",
              "2016-07-24 16:05:00       July  Sunday    16       5  \n",
              "2016-07-24 16:10:00       July  Sunday    16      10  \n",
              "2016-07-24 16:15:00       July  Sunday    16      15  \n",
              "2016-07-24 16:20:00       July  Sunday    16      20  \n",
              "...                        ...     ...   ...     ...  \n",
              "2016-09-23 15:35:00  September  Friday    15      35  \n",
              "2016-09-23 15:40:00  September  Friday    15      40  \n",
              "2016-09-23 15:45:00  September  Friday    15      45  \n",
              "2016-09-23 15:50:00  September  Friday    15      50  \n",
              "2016-09-23 15:55:00  September  Friday    15      55  \n",
              "\n",
              "[17568 rows x 9 columns]"
            ]
          },
          "execution_count": 8,
          "metadata": {},
          "output_type": "execute_result"
        }
      ],
      "source": [
        "dfcpu.set_index('datetime', inplace = True)\n",
        "dfcpu"
      ]
    },
    {
      "cell_type": "code",
      "execution_count": null,
      "metadata": {
        "id": "u70lq5B7IiOX",
        "outputId": "fba6b5ec-239f-4f47-ac8e-463592625d13"
      },
      "outputs": [
        {
          "name": "stdout",
          "output_type": "stream",
          "text": [
            "2016-07-24 16:00:00 2016-09-23 15:55:00\n"
          ]
        }
      ],
      "source": [
        "mindt = dfcpu['datetime'].min()\n",
        "maxdt = dfcpu['datetime'].max()\n",
        "print(mindt, maxdt)"
      ]
    },
    {
      "cell_type": "code",
      "execution_count": null,
      "metadata": {
        "id": "LUkrQEPvIiOY",
        "outputId": "3184ffa7-687b-45e5-cc05-80da67e4d9ef"
      },
      "outputs": [
        {
          "data": {
            "text/html": [
              "<div>\n",
              "<style scoped>\n",
              "    .dataframe tbody tr th:only-of-type {\n",
              "        vertical-align: middle;\n",
              "    }\n",
              "\n",
              "    .dataframe tbody tr th {\n",
              "        vertical-align: top;\n",
              "    }\n",
              "\n",
              "    .dataframe thead th {\n",
              "        text-align: right;\n",
              "    }\n",
              "</style>\n",
              "<table border=\"1\" class=\"dataframe\">\n",
              "  <thead>\n",
              "    <tr style=\"text-align: right;\">\n",
              "      <th></th>\n",
              "    </tr>\n",
              "    <tr>\n",
              "      <th>0</th>\n",
              "    </tr>\n",
              "  </thead>\n",
              "  <tbody>\n",
              "    <tr>\n",
              "      <th>2016-07-24 16:00:00</th>\n",
              "    </tr>\n",
              "    <tr>\n",
              "      <th>2016-07-24 16:05:00</th>\n",
              "    </tr>\n",
              "    <tr>\n",
              "      <th>2016-07-24 16:10:00</th>\n",
              "    </tr>\n",
              "    <tr>\n",
              "      <th>2016-07-24 16:15:00</th>\n",
              "    </tr>\n",
              "    <tr>\n",
              "      <th>2016-07-24 16:20:00</th>\n",
              "    </tr>\n",
              "    <tr>\n",
              "      <th>...</th>\n",
              "    </tr>\n",
              "    <tr>\n",
              "      <th>2016-09-23 15:35:00</th>\n",
              "    </tr>\n",
              "    <tr>\n",
              "      <th>2016-09-23 15:40:00</th>\n",
              "    </tr>\n",
              "    <tr>\n",
              "      <th>2016-09-23 15:45:00</th>\n",
              "    </tr>\n",
              "    <tr>\n",
              "      <th>2016-09-23 15:50:00</th>\n",
              "    </tr>\n",
              "    <tr>\n",
              "      <th>2016-09-23 15:55:00</th>\n",
              "    </tr>\n",
              "  </tbody>\n",
              "</table>\n",
              "<p>17568 rows × 0 columns</p>\n",
              "</div>"
            ],
            "text/plain": [
              "Empty DataFrame\n",
              "Columns: []\n",
              "Index: [2016-07-24 16:00:00, 2016-07-24 16:05:00, 2016-07-24 16:10:00, 2016-07-24 16:15:00, 2016-07-24 16:20:00, 2016-07-24 16:25:00, 2016-07-24 16:30:00, 2016-07-24 16:35:00, 2016-07-24 16:40:00, 2016-07-24 16:45:00, 2016-07-24 16:50:00, 2016-07-24 16:55:00, 2016-07-24 17:00:00, 2016-07-24 17:05:00, 2016-07-24 17:10:00, 2016-07-24 17:15:00, 2016-07-24 17:20:00, 2016-07-24 17:25:00, 2016-07-24 17:30:00, 2016-07-24 17:35:00, 2016-07-24 17:40:00, 2016-07-24 17:45:00, 2016-07-24 17:50:00, 2016-07-24 17:55:00, 2016-07-24 18:00:00, 2016-07-24 18:05:00, 2016-07-24 18:10:00, 2016-07-24 18:15:00, 2016-07-24 18:20:00, 2016-07-24 18:25:00, 2016-07-24 18:30:00, 2016-07-24 18:35:00, 2016-07-24 18:40:00, 2016-07-24 18:45:00, 2016-07-24 18:50:00, 2016-07-24 18:55:00, 2016-07-24 19:00:00, 2016-07-24 19:05:00, 2016-07-24 19:10:00, 2016-07-24 19:15:00, 2016-07-24 19:20:00, 2016-07-24 19:25:00, 2016-07-24 19:30:00, 2016-07-24 19:35:00, 2016-07-24 19:40:00, 2016-07-24 19:45:00, 2016-07-24 19:50:00, 2016-07-24 19:55:00, 2016-07-24 20:00:00, 2016-07-24 20:05:00, 2016-07-24 20:10:00, 2016-07-24 20:15:00, 2016-07-24 20:20:00, 2016-07-24 20:25:00, 2016-07-24 20:30:00, 2016-07-24 20:35:00, 2016-07-24 20:40:00, 2016-07-24 20:45:00, 2016-07-24 20:50:00, 2016-07-24 20:55:00, 2016-07-24 21:00:00, 2016-07-24 21:05:00, 2016-07-24 21:10:00, 2016-07-24 21:15:00, 2016-07-24 21:20:00, 2016-07-24 21:25:00, 2016-07-24 21:30:00, 2016-07-24 21:35:00, 2016-07-24 21:40:00, 2016-07-24 21:45:00, 2016-07-24 21:50:00, 2016-07-24 21:55:00, 2016-07-24 22:00:00, 2016-07-24 22:05:00, 2016-07-24 22:10:00, 2016-07-24 22:15:00, 2016-07-24 22:20:00, 2016-07-24 22:25:00, 2016-07-24 22:30:00, 2016-07-24 22:35:00, 2016-07-24 22:40:00, 2016-07-24 22:45:00, 2016-07-24 22:50:00, 2016-07-24 22:55:00, 2016-07-24 23:00:00, 2016-07-24 23:05:00, 2016-07-24 23:10:00, 2016-07-24 23:15:00, 2016-07-24 23:20:00, 2016-07-24 23:25:00, 2016-07-24 23:30:00, 2016-07-24 23:35:00, 2016-07-24 23:40:00, 2016-07-24 23:45:00, 2016-07-24 23:50:00, 2016-07-24 23:55:00, 2016-07-25 00:00:00, 2016-07-25 00:05:00, 2016-07-25 00:10:00, 2016-07-25 00:15:00, ...]\n",
              "\n",
              "[17568 rows x 0 columns]"
            ]
          },
          "execution_count": 32,
          "metadata": {},
          "output_type": "execute_result"
        }
      ],
      "source": [
        "date_range = pd.DataFrame(pd.date_range(mindt, maxdt, freq='5Min')).set_index(0)\n",
        "date_range "
      ]
    },
    {
      "cell_type": "code",
      "execution_count": null,
      "metadata": {
        "id": "7vWbhuoMIiOa",
        "outputId": "a99ce4d7-c0c7-4dd3-f085-af3ba03a798c"
      },
      "outputs": [
        {
          "data": {
            "text/html": [
              "<div>\n",
              "<style scoped>\n",
              "    .dataframe tbody tr th:only-of-type {\n",
              "        vertical-align: middle;\n",
              "    }\n",
              "\n",
              "    .dataframe tbody tr th {\n",
              "        vertical-align: top;\n",
              "    }\n",
              "\n",
              "    .dataframe thead th {\n",
              "        text-align: right;\n",
              "    }\n",
              "</style>\n",
              "<table border=\"1\" class=\"dataframe\">\n",
              "  <thead>\n",
              "    <tr style=\"text-align: right;\">\n",
              "      <th></th>\n",
              "    </tr>\n",
              "    <tr>\n",
              "      <th>0</th>\n",
              "    </tr>\n",
              "  </thead>\n",
              "  <tbody>\n",
              "  </tbody>\n",
              "</table>\n",
              "</div>"
            ],
            "text/plain": [
              "Empty DataFrame\n",
              "Columns: []\n",
              "Index: []"
            ]
          },
          "execution_count": 33,
          "metadata": {},
          "output_type": "execute_result"
        }
      ],
      "source": [
        "missing_dates  = date_range[~date_range.index.isin(dfcpu.index)]\n",
        "missing_dates"
      ]
    },
    {
      "cell_type": "code",
      "execution_count": null,
      "metadata": {
        "id": "zQNBaeGOIiOb"
      },
      "outputs": [],
      "source": []
    }
  ],
  "metadata": {
    "kernelspec": {
      "display_name": "Python 3 (ipykernel)",
      "language": "python",
      "name": "python3"
    },
    "language_info": {
      "codemirror_mode": {
        "name": "ipython",
        "version": 3
      },
      "file_extension": ".py",
      "mimetype": "text/x-python",
      "name": "python",
      "nbconvert_exporter": "python",
      "pygments_lexer": "ipython3",
      "version": "3.9.13"
    },
    "colab": {
      "provenance": []
    }
  },
  "nbformat": 4,
  "nbformat_minor": 0
}