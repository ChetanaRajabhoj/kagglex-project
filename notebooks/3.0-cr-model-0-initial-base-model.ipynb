{
 "cells": [
  {
   "cell_type": "code",
   "execution_count": 29,
   "metadata": {},
   "outputs": [],
   "source": [
    "import numpy as np\n",
    "import pandas as pd\n",
    "\n",
    "import seaborn as sns\n",
    "import matplotlib.pyplot as plt"
   ]
  },
  {
   "cell_type": "code",
   "execution_count": 30,
   "metadata": {},
   "outputs": [],
   "source": [
    "dfcpu = pd.read_csv('../data/processed/cpu4.csv')\n",
    "dfcpu = dfcpu.sort_values(by='timestamp', ascending=True)\n",
    "dfcpu = dfcpu.replace({'label': {0.0: False, 1.0: True}})"
   ]
  },
  {
   "cell_type": "code",
   "execution_count": 31,
   "metadata": {},
   "outputs": [
    {
     "name": "stdout",
     "output_type": "stream",
     "text": [
      "<class 'pandas.core.frame.DataFrame'>\n",
      "Int64Index: 17568 entries, 0 to 17567\n",
      "Data columns (total 14 columns):\n",
      " #   Column       Non-Null Count  Dtype  \n",
      "---  ------       --------------  -----  \n",
      " 0   timestamp    17568 non-null  int64  \n",
      " 1   value        17568 non-null  float64\n",
      " 2   label        17568 non-null  bool   \n",
      " 3   datetime     17568 non-null  object \n",
      " 4   date         17568 non-null  object \n",
      " 5   time         17568 non-null  object \n",
      " 6   month        17568 non-null  object \n",
      " 7   day          17568 non-null  object \n",
      " 8   hour         17568 non-null  int64  \n",
      " 9   minute       17568 non-null  int64  \n",
      " 10  value_lag_1  17567 non-null  float64\n",
      " 11  value_lag_3  17565 non-null  float64\n",
      " 12  value_lag_5  17563 non-null  float64\n",
      " 13  value_lag_7  17561 non-null  float64\n",
      "dtypes: bool(1), float64(5), int64(3), object(5)\n",
      "memory usage: 1.9+ MB\n"
     ]
    }
   ],
   "source": [
    "dfcpu.info()"
   ]
  },
  {
   "cell_type": "markdown",
   "metadata": {},
   "source": [
    "# Rule Based Model\n"
   ]
  },
  {
   "cell_type": "code",
   "execution_count": 90,
   "metadata": {},
   "outputs": [],
   "source": [
    "dfcpu['pred'] = (dfcpu.value <-1.5) | (dfcpu.value > 2.9)"
   ]
  },
  {
   "cell_type": "code",
   "execution_count": 91,
   "metadata": {},
   "outputs": [
    {
     "data": {
      "text/html": [
       "<div>\n",
       "<style scoped>\n",
       "    .dataframe tbody tr th:only-of-type {\n",
       "        vertical-align: middle;\n",
       "    }\n",
       "\n",
       "    .dataframe tbody tr th {\n",
       "        vertical-align: top;\n",
       "    }\n",
       "\n",
       "    .dataframe thead th {\n",
       "        text-align: right;\n",
       "    }\n",
       "</style>\n",
       "<table border=\"1\" class=\"dataframe\">\n",
       "  <thead>\n",
       "    <tr style=\"text-align: right;\">\n",
       "      <th></th>\n",
       "      <th>timestamp</th>\n",
       "      <th>value</th>\n",
       "      <th>label</th>\n",
       "      <th>datetime</th>\n",
       "      <th>date</th>\n",
       "      <th>time</th>\n",
       "      <th>month</th>\n",
       "      <th>day</th>\n",
       "      <th>hour</th>\n",
       "      <th>minute</th>\n",
       "      <th>value_lag_1</th>\n",
       "      <th>value_lag_3</th>\n",
       "      <th>value_lag_5</th>\n",
       "      <th>value_lag_7</th>\n",
       "      <th>pred</th>\n",
       "    </tr>\n",
       "  </thead>\n",
       "  <tbody>\n",
       "    <tr>\n",
       "      <th>0</th>\n",
       "      <td>1469376000</td>\n",
       "      <td>0.847300</td>\n",
       "      <td>False</td>\n",
       "      <td>2016-07-24 16:00:00</td>\n",
       "      <td>2016-07-24</td>\n",
       "      <td>16:00:00</td>\n",
       "      <td>July</td>\n",
       "      <td>Sunday</td>\n",
       "      <td>16</td>\n",
       "      <td>0</td>\n",
       "      <td>NaN</td>\n",
       "      <td>NaN</td>\n",
       "      <td>NaN</td>\n",
       "      <td>NaN</td>\n",
       "      <td>False</td>\n",
       "    </tr>\n",
       "    <tr>\n",
       "      <th>1</th>\n",
       "      <td>1469376300</td>\n",
       "      <td>-0.036137</td>\n",
       "      <td>False</td>\n",
       "      <td>2016-07-24 16:05:00</td>\n",
       "      <td>2016-07-24</td>\n",
       "      <td>16:05:00</td>\n",
       "      <td>July</td>\n",
       "      <td>Sunday</td>\n",
       "      <td>16</td>\n",
       "      <td>5</td>\n",
       "      <td>0.847300</td>\n",
       "      <td>NaN</td>\n",
       "      <td>NaN</td>\n",
       "      <td>NaN</td>\n",
       "      <td>False</td>\n",
       "    </tr>\n",
       "    <tr>\n",
       "      <th>2</th>\n",
       "      <td>1469376600</td>\n",
       "      <td>0.074292</td>\n",
       "      <td>False</td>\n",
       "      <td>2016-07-24 16:10:00</td>\n",
       "      <td>2016-07-24</td>\n",
       "      <td>16:10:00</td>\n",
       "      <td>July</td>\n",
       "      <td>Sunday</td>\n",
       "      <td>16</td>\n",
       "      <td>10</td>\n",
       "      <td>-0.036137</td>\n",
       "      <td>NaN</td>\n",
       "      <td>NaN</td>\n",
       "      <td>NaN</td>\n",
       "      <td>False</td>\n",
       "    </tr>\n",
       "    <tr>\n",
       "      <th>3</th>\n",
       "      <td>1469376900</td>\n",
       "      <td>0.074292</td>\n",
       "      <td>False</td>\n",
       "      <td>2016-07-24 16:15:00</td>\n",
       "      <td>2016-07-24</td>\n",
       "      <td>16:15:00</td>\n",
       "      <td>July</td>\n",
       "      <td>Sunday</td>\n",
       "      <td>16</td>\n",
       "      <td>15</td>\n",
       "      <td>0.074292</td>\n",
       "      <td>0.847300</td>\n",
       "      <td>NaN</td>\n",
       "      <td>NaN</td>\n",
       "      <td>False</td>\n",
       "    </tr>\n",
       "    <tr>\n",
       "      <th>4</th>\n",
       "      <td>1469377200</td>\n",
       "      <td>-0.036137</td>\n",
       "      <td>False</td>\n",
       "      <td>2016-07-24 16:20:00</td>\n",
       "      <td>2016-07-24</td>\n",
       "      <td>16:20:00</td>\n",
       "      <td>July</td>\n",
       "      <td>Sunday</td>\n",
       "      <td>16</td>\n",
       "      <td>20</td>\n",
       "      <td>0.074292</td>\n",
       "      <td>-0.036137</td>\n",
       "      <td>NaN</td>\n",
       "      <td>NaN</td>\n",
       "      <td>False</td>\n",
       "    </tr>\n",
       "  </tbody>\n",
       "</table>\n",
       "</div>"
      ],
      "text/plain": [
       "    timestamp     value  label             datetime        date      time  \\\n",
       "0  1469376000  0.847300  False  2016-07-24 16:00:00  2016-07-24  16:00:00   \n",
       "1  1469376300 -0.036137  False  2016-07-24 16:05:00  2016-07-24  16:05:00   \n",
       "2  1469376600  0.074292  False  2016-07-24 16:10:00  2016-07-24  16:10:00   \n",
       "3  1469376900  0.074292  False  2016-07-24 16:15:00  2016-07-24  16:15:00   \n",
       "4  1469377200 -0.036137  False  2016-07-24 16:20:00  2016-07-24  16:20:00   \n",
       "\n",
       "  month     day  hour  minute  value_lag_1  value_lag_3  value_lag_5  \\\n",
       "0  July  Sunday    16       0          NaN          NaN          NaN   \n",
       "1  July  Sunday    16       5     0.847300          NaN          NaN   \n",
       "2  July  Sunday    16      10    -0.036137          NaN          NaN   \n",
       "3  July  Sunday    16      15     0.074292     0.847300          NaN   \n",
       "4  July  Sunday    16      20     0.074292    -0.036137          NaN   \n",
       "\n",
       "   value_lag_7   pred  \n",
       "0          NaN  False  \n",
       "1          NaN  False  \n",
       "2          NaN  False  \n",
       "3          NaN  False  \n",
       "4          NaN  False  "
      ]
     },
     "execution_count": 91,
     "metadata": {},
     "output_type": "execute_result"
    }
   ],
   "source": [
    "dfcpu.head()"
   ]
  },
  {
   "cell_type": "code",
   "execution_count": 92,
   "metadata": {},
   "outputs": [
    {
     "name": "stdout",
     "output_type": "stream",
     "text": [
      "False    17359\n",
      "True       209\n",
      "Name: label, dtype: int64\n",
      "False    0.988103\n",
      "True     0.011897\n",
      "Name: label, dtype: float64\n"
     ]
    }
   ],
   "source": [
    "print(dfcpu.label.value_counts())\n",
    "print(dfcpu.label.value_counts(normalize=True))"
   ]
  },
  {
   "cell_type": "code",
   "execution_count": 93,
   "metadata": {},
   "outputs": [
    {
     "name": "stdout",
     "output_type": "stream",
     "text": [
      "False    17109\n",
      "True       459\n",
      "Name: pred, dtype: int64\n",
      "False    0.973873\n",
      "True     0.026127\n",
      "Name: pred, dtype: float64\n"
     ]
    }
   ],
   "source": [
    "print(dfcpu.pred.value_counts())\n",
    "print(dfcpu.pred.value_counts(normalize=True))"
   ]
  },
  {
   "cell_type": "code",
   "execution_count": 94,
   "metadata": {},
   "outputs": [
    {
     "data": {
      "text/plain": [
       "'2016-09-23'"
      ]
     },
     "execution_count": 94,
     "metadata": {},
     "output_type": "execute_result"
    }
   ],
   "source": [
    "dfcpu.date.max()"
   ]
  },
  {
   "cell_type": "code",
   "execution_count": 95,
   "metadata": {},
   "outputs": [
    {
     "name": "stdout",
     "output_type": "stream",
     "text": [
      "False    6446\n",
      "True       82\n",
      "Name: pred, dtype: int64\n"
     ]
    },
    {
     "data": {
      "text/plain": [
       "((11040, 1), (11040,))"
      ]
     },
     "execution_count": 95,
     "metadata": {},
     "output_type": "execute_result"
    }
   ],
   "source": [
    "train = dfcpu.loc[dfcpu.date < '2016-09-01'][['value', 'pred']]\n",
    "test = dfcpu.loc[dfcpu.date >= '2016-09-01'][['value', 'pred']]\n",
    "\n",
    "print(test.pred.value_counts())\n",
    "X_train = np.array(train.value).reshape(-1,1)\n",
    "y_train = np.array(train.pred)\n",
    "X_test = np.array(test.value).reshape(-1,1) \n",
    "y_test = np.array(test.pred)\n"
   ]
  },
  {
   "cell_type": "code",
   "execution_count": 96,
   "metadata": {},
   "outputs": [],
   "source": [
    "from sklearn.linear_model import LogisticRegression\n",
    "from sklearn import metrics"
   ]
  },
  {
   "cell_type": "code",
   "execution_count": 99,
   "metadata": {},
   "outputs": [
    {
     "name": "stdout",
     "output_type": "stream",
     "text": [
      "0.9878048780487805\n"
     ]
    },
    {
     "data": {
      "image/png": "[encoded data removed]",
      "text/plain": [
       "<Figure size 640x480 with 1 Axes>"
      ]
     },
     "metadata": {},
     "output_type": "display_data"
    }
   ],
   "source": [
    "#instantiate the model\n",
    "log_regression = LogisticRegression()\n",
    "\n",
    "#fit the model using the training data\n",
    "log_regression.fit(X_train,y_train)\n",
    "\n",
    "#use model to predict probability that given y value is 1\n",
    "y_pred_proba = log_regression.predict_proba(X_test)[::,1]\n",
    "\n",
    "#calculate AUC of model\n",
    "auc = metrics.roc_auc_score(y_test, y_pred_proba)\n",
    "\n",
    "#print AUC score\n",
    "print(auc)\n",
    "\n",
    "fpr, tpr, thresholds = metrics.roc_curve(y_test, y_pred_proba)\n",
    "roc_auc = metrics.auc(fpr, tpr)\n",
    "display = metrics.RocCurveDisplay(fpr=fpr, tpr=tpr, roc_auc=roc_auc)\n",
    "display.plot()\n",
    "plt.show()"
   ]
  }
 ],
 "metadata": {
  "kernelspec": {
   "display_name": "Python 3 (ipykernel)",
   "language": "python",
   "name": "python3"
  },
  "language_info": {
   "codemirror_mode": {
    "name": "ipython",
    "version": 3
   },
   "file_extension": ".py",
   "mimetype": "text/x-python",
   "name": "python",
   "nbconvert_exporter": "python",
   "pygments_lexer": "ipython3",
   "version": "3.9.13"
  }
 },
 "nbformat": 4,
 "nbformat_minor": 4
}
