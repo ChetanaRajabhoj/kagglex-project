{
  "cells": [
    {
      "cell_type": "code",
      "execution_count": 29,
      "metadata": {
        "id": "Ck_q0LJKVCft"
      },
      "outputs": [],
      "source": [
        "import numpy as np\n",
        "import pandas as pd\n",
        "\n",
        "import seaborn as sns\n",
        "import matplotlib.pyplot as plt\n",
        "from sklearn import metrics\n",
        "from sklearn.metrics import confusion_matrix, recall_score, accuracy_score, precision_score,roc_curve"
      ]
    },
    {
      "cell_type": "code",
      "execution_count": 30,
      "metadata": {
        "id": "sy4UUa3CVCfz"
      },
      "outputs": [],
      "source": [
        "# dfcpu = pd.read_csv('../data/processed/cpu4.csv')\n",
        "dfcpu = pd.read_csv('https://raw.githubusercontent.com/ChetanaRajabhoj/kagglex-project/main/data/processed/cpu4.csv')\n",
        "dfcpu = dfcpu.sort_values(by='timestamp', ascending=True)\n",
        "dfcpu = dfcpu.replace({'label': {0.0: False, 1.0: True}})"
      ]
    },
    {
      "cell_type": "code",
      "execution_count": 31,
      "metadata": {
        "id": "bpbOmK8iVCf0",
        "outputId": "521bfbc1-2f9d-43be-c8d1-a9171d3ce4a8",
        "colab": {
          "base_uri": "https://localhost:8080/"
        }
      },
      "outputs": [
        {
          "output_type": "stream",
          "name": "stdout",
          "text": [
            "<class 'pandas.core.frame.DataFrame'>\n",
            "Int64Index: 17568 entries, 0 to 17567\n",
            "Data columns (total 41 columns):\n",
            " #   Column      Non-Null Count  Dtype  \n",
            "---  ------      --------------  -----  \n",
            " 0   datetime    17568 non-null  object \n",
            " 1   timestamp   17568 non-null  int64  \n",
            " 2   value       17568 non-null  float64\n",
            " 3   label       17568 non-null  bool   \n",
            " 4   date        17568 non-null  object \n",
            " 5   time        17568 non-null  object \n",
            " 6   month       17568 non-null  object \n",
            " 7   day         17568 non-null  object \n",
            " 8   hour        17568 non-null  int64  \n",
            " 9   minute      17568 non-null  int64  \n",
            " 10  value(t-1)  17567 non-null  float64\n",
            " 11  value(t-2)  17566 non-null  float64\n",
            " 12  value(t-3)  17565 non-null  float64\n",
            " 13  value(t-4)  17564 non-null  float64\n",
            " 14  value(t-5)  17563 non-null  float64\n",
            " 15  hour_1      17568 non-null  int64  \n",
            " 16  hour_2      17568 non-null  int64  \n",
            " 17  hour_3      17568 non-null  int64  \n",
            " 18  hour_4      17568 non-null  int64  \n",
            " 19  hour_5      17568 non-null  int64  \n",
            " 20  hour_6      17568 non-null  int64  \n",
            " 21  hour_7      17568 non-null  int64  \n",
            " 22  hour_8      17568 non-null  int64  \n",
            " 23  hour_9      17568 non-null  int64  \n",
            " 24  hour_10     17568 non-null  int64  \n",
            " 25  hour_11     17568 non-null  int64  \n",
            " 26  hour_12     17568 non-null  int64  \n",
            " 27  hour_13     17568 non-null  int64  \n",
            " 28  hour_14     17568 non-null  int64  \n",
            " 29  hour_15     17568 non-null  int64  \n",
            " 30  hour_16     17568 non-null  int64  \n",
            " 31  hour_17     17568 non-null  int64  \n",
            " 32  hour_18     17568 non-null  int64  \n",
            " 33  hour_19     17568 non-null  int64  \n",
            " 34  hour_20     17568 non-null  int64  \n",
            " 35  hour_21     17568 non-null  int64  \n",
            " 36  hour_22     17568 non-null  int64  \n",
            " 37  hour_23     17568 non-null  int64  \n",
            " 38  hour.1      17568 non-null  int64  \n",
            " 39  hour_sin    17568 non-null  float64\n",
            " 40  hour_cos    17568 non-null  float64\n",
            "dtypes: bool(1), float64(8), int64(27), object(5)\n",
            "memory usage: 5.5+ MB\n"
          ]
        }
      ],
      "source": [
        "dfcpu.info()"
      ]
    },
    {
      "cell_type": "markdown",
      "metadata": {
        "id": "i6eIXfaSVCf1"
      },
      "source": [
        "# Rule Based Model\n"
      ]
    },
    {
      "cell_type": "code",
      "execution_count": 32,
      "metadata": {
        "id": "5R_V3DTPVCf4"
      },
      "outputs": [],
      "source": [
        "dfcpu['pred'] = (dfcpu.value <-1.5) | (dfcpu.value > 2.9)"
      ]
    },
    {
      "cell_type": "code",
      "execution_count": 33,
      "metadata": {
        "id": "wcgbKSZ5VCf5",
        "outputId": "0a4eea67-21e4-47af-9668-075d55de5b45",
        "colab": {
          "base_uri": "https://localhost:8080/",
          "height": 236
        }
      },
      "outputs": [
        {
          "output_type": "execute_result",
          "data": {
            "text/plain": [
              "              datetime   timestamp     value  label        date      time  \\\n",
              "0  2016-07-24 16:00:00  1469376000  0.847300  False  2016-07-24  16:00:00   \n",
              "1  2016-07-24 16:05:00  1469376300 -0.036137  False  2016-07-24  16:05:00   \n",
              "2  2016-07-24 16:10:00  1469376600  0.074292  False  2016-07-24  16:10:00   \n",
              "3  2016-07-24 16:15:00  1469376900  0.074292  False  2016-07-24  16:15:00   \n",
              "4  2016-07-24 16:20:00  1469377200 -0.036137  False  2016-07-24  16:20:00   \n",
              "\n",
              "  month     day  hour  minute  ...  hour_18  hour_19  hour_20  hour_21  \\\n",
              "0  July  Sunday    16       0  ...        0        0        0        0   \n",
              "1  July  Sunday    16       5  ...        0        0        0        0   \n",
              "2  July  Sunday    16      10  ...        0        0        0        0   \n",
              "3  July  Sunday    16      15  ...        0        0        0        0   \n",
              "4  July  Sunday    16      20  ...        0        0        0        0   \n",
              "\n",
              "   hour_22  hour_23  hour.1  hour_sin  hour_cos   pred  \n",
              "0        0        0      16 -0.866025      -0.5  False  \n",
              "1        0        0      16 -0.866025      -0.5  False  \n",
              "2        0        0      16 -0.866025      -0.5  False  \n",
              "3        0        0      16 -0.866025      -0.5  False  \n",
              "4        0        0      16 -0.866025      -0.5  False  \n",
              "\n",
              "[5 rows x 42 columns]"
            ],
            "text/html": [
              "\n",
              "  <div id=\"df-45ba5bba-f518-45c7-b4be-9421ad2fc700\">\n",
              "    <div class=\"colab-df-container\">\n",
              "      <div>\n",
              "<style scoped>\n",
              "    .dataframe tbody tr th:only-of-type {\n",
              "        vertical-align: middle;\n",
              "    }\n",
              "\n",
              "    .dataframe tbody tr th {\n",
              "        vertical-align: top;\n",
              "    }\n",
              "\n",
              "    .dataframe thead th {\n",
              "        text-align: right;\n",
              "    }\n",
              "</style>\n",
              "<table border=\"1\" class=\"dataframe\">\n",
              "  <thead>\n",
              "    <tr style=\"text-align: right;\">\n",
              "      <th></th>\n",
              "      <th>datetime</th>\n",
              "      <th>timestamp</th>\n",
              "      <th>value</th>\n",
              "      <th>label</th>\n",
              "      <th>date</th>\n",
              "      <th>time</th>\n",
              "      <th>month</th>\n",
              "      <th>day</th>\n",
              "      <th>hour</th>\n",
              "      <th>minute</th>\n",
              "      <th>...</th>\n",
              "      <th>hour_18</th>\n",
              "      <th>hour_19</th>\n",
              "      <th>hour_20</th>\n",
              "      <th>hour_21</th>\n",
              "      <th>hour_22</th>\n",
              "      <th>hour_23</th>\n",
              "      <th>hour.1</th>\n",
              "      <th>hour_sin</th>\n",
              "      <th>hour_cos</th>\n",
              "      <th>pred</th>\n",
              "    </tr>\n",
              "  </thead>\n",
              "  <tbody>\n",
              "    <tr>\n",
              "      <th>0</th>\n",
              "      <td>2016-07-24 16:00:00</td>\n",
              "      <td>1469376000</td>\n",
              "      <td>0.847300</td>\n",
              "      <td>False</td>\n",
              "      <td>2016-07-24</td>\n",
              "      <td>16:00:00</td>\n",
              "      <td>July</td>\n",
              "      <td>Sunday</td>\n",
              "      <td>16</td>\n",
              "      <td>0</td>\n",
              "      <td>...</td>\n",
              "      <td>0</td>\n",
              "      <td>0</td>\n",
              "      <td>0</td>\n",
              "      <td>0</td>\n",
              "      <td>0</td>\n",
              "      <td>0</td>\n",
              "      <td>16</td>\n",
              "      <td>-0.866025</td>\n",
              "      <td>-0.5</td>\n",
              "      <td>False</td>\n",
              "    </tr>\n",
              "    <tr>\n",
              "      <th>1</th>\n",
              "      <td>2016-07-24 16:05:00</td>\n",
              "      <td>1469376300</td>\n",
              "      <td>-0.036137</td>\n",
              "      <td>False</td>\n",
              "      <td>2016-07-24</td>\n",
              "      <td>16:05:00</td>\n",
              "      <td>July</td>\n",
              "      <td>Sunday</td>\n",
              "      <td>16</td>\n",
              "      <td>5</td>\n",
              "      <td>...</td>\n",
              "      <td>0</td>\n",
              "      <td>0</td>\n",
              "      <td>0</td>\n",
              "      <td>0</td>\n",
              "      <td>0</td>\n",
              "      <td>0</td>\n",
              "      <td>16</td>\n",
              "      <td>-0.866025</td>\n",
              "      <td>-0.5</td>\n",
              "      <td>False</td>\n",
              "    </tr>\n",
              "    <tr>\n",
              "      <th>2</th>\n",
              "      <td>2016-07-24 16:10:00</td>\n",
              "      <td>1469376600</td>\n",
              "      <td>0.074292</td>\n",
              "      <td>False</td>\n",
              "      <td>2016-07-24</td>\n",
              "      <td>16:10:00</td>\n",
              "      <td>July</td>\n",
              "      <td>Sunday</td>\n",
              "      <td>16</td>\n",
              "      <td>10</td>\n",
              "      <td>...</td>\n",
              "      <td>0</td>\n",
              "      <td>0</td>\n",
              "      <td>0</td>\n",
              "      <td>0</td>\n",
              "      <td>0</td>\n",
              "      <td>0</td>\n",
              "      <td>16</td>\n",
              "      <td>-0.866025</td>\n",
              "      <td>-0.5</td>\n",
              "      <td>False</td>\n",
              "    </tr>\n",
              "    <tr>\n",
              "      <th>3</th>\n",
              "      <td>2016-07-24 16:15:00</td>\n",
              "      <td>1469376900</td>\n",
              "      <td>0.074292</td>\n",
              "      <td>False</td>\n",
              "      <td>2016-07-24</td>\n",
              "      <td>16:15:00</td>\n",
              "      <td>July</td>\n",
              "      <td>Sunday</td>\n",
              "      <td>16</td>\n",
              "      <td>15</td>\n",
              "      <td>...</td>\n",
              "      <td>0</td>\n",
              "      <td>0</td>\n",
              "      <td>0</td>\n",
              "      <td>0</td>\n",
              "      <td>0</td>\n",
              "      <td>0</td>\n",
              "      <td>16</td>\n",
              "      <td>-0.866025</td>\n",
              "      <td>-0.5</td>\n",
              "      <td>False</td>\n",
              "    </tr>\n",
              "    <tr>\n",
              "      <th>4</th>\n",
              "      <td>2016-07-24 16:20:00</td>\n",
              "      <td>1469377200</td>\n",
              "      <td>-0.036137</td>\n",
              "      <td>False</td>\n",
              "      <td>2016-07-24</td>\n",
              "      <td>16:20:00</td>\n",
              "      <td>July</td>\n",
              "      <td>Sunday</td>\n",
              "      <td>16</td>\n",
              "      <td>20</td>\n",
              "      <td>...</td>\n",
              "      <td>0</td>\n",
              "      <td>0</td>\n",
              "      <td>0</td>\n",
              "      <td>0</td>\n",
              "      <td>0</td>\n",
              "      <td>0</td>\n",
              "      <td>16</td>\n",
              "      <td>-0.866025</td>\n",
              "      <td>-0.5</td>\n",
              "      <td>False</td>\n",
              "    </tr>\n",
              "  </tbody>\n",
              "</table>\n",
              "<p>5 rows × 42 columns</p>\n",
              "</div>\n",
              "      <button class=\"colab-df-convert\" onclick=\"convertToInteractive('df-45ba5bba-f518-45c7-b4be-9421ad2fc700')\"\n",
              "              title=\"Convert this dataframe to an interactive table.\"\n",
              "              style=\"display:none;\">\n",
              "        \n",
              "  <svg xmlns=\"http://www.w3.org/2000/svg\" height=\"24px\"viewBox=\"0 0 24 24\"\n",
              "       width=\"24px\">\n",
              "    <path d=\"M0 0h24v24H0V0z\" fill=\"none\"/>\n",
              "    <path d=\"M18.56 5.44l.94 2.06.94-2.06 2.06-.94-2.06-.94-.94-2.06-.94 2.06-2.06.94zm-11 1L8.5 8.5l.94-2.06 2.06-.94-2.06-.94L8.5 2.5l-.94 2.06-2.06.94zm10 10l.94 2.06.94-2.06 2.06-.94-2.06-.94-.94-2.06-.94 2.06-2.06.94z\"/><path d=\"M17.41 7.96l-1.37-1.37c-.4-.4-.92-.59-1.43-.59-.52 0-1.04.2-1.43.59L10.3 9.45l-7.72 7.72c-.78.78-.78 2.05 0 2.83L4 21.41c.39.39.9.59 1.41.59.51 0 1.02-.2 1.41-.59l7.78-7.78 2.81-2.81c.8-.78.8-2.07 0-2.86zM5.41 20L4 18.59l7.72-7.72 1.47 1.35L5.41 20z\"/>\n",
              "  </svg>\n",
              "      </button>\n",
              "      \n",
              "  <style>\n",
              "    .colab-df-container {\n",
              "      display:flex;\n",
              "      flex-wrap:wrap;\n",
              "      gap: 12px;\n",
              "    }\n",
              "\n",
              "    .colab-df-convert {\n",
              "      background-color: #E8F0FE;\n",
              "      border: none;\n",
              "      border-radius: 50%;\n",
              "      cursor: pointer;\n",
              "      display: none;\n",
              "      fill: #1967D2;\n",
              "      height: 32px;\n",
              "      padding: 0 0 0 0;\n",
              "      width: 32px;\n",
              "    }\n",
              "\n",
              "    .colab-df-convert:hover {\n",
              "      background-color: #E2EBFA;\n",
              "      box-shadow: 0px 1px 2px rgba(60, 64, 67, 0.3), 0px 1px 3px 1px rgba(60, 64, 67, 0.15);\n",
              "      fill: #174EA6;\n",
              "    }\n",
              "\n",
              "    [theme=dark] .colab-df-convert {\n",
              "      background-color: #3B4455;\n",
              "      fill: #D2E3FC;\n",
              "    }\n",
              "\n",
              "    [theme=dark] .colab-df-convert:hover {\n",
              "      background-color: #434B5C;\n",
              "      box-shadow: 0px 1px 3px 1px rgba(0, 0, 0, 0.15);\n",
              "      filter: drop-shadow(0px 1px 2px rgba(0, 0, 0, 0.3));\n",
              "      fill: #FFFFFF;\n",
              "    }\n",
              "  </style>\n",
              "\n",
              "      <script>\n",
              "        const buttonEl =\n",
              "          document.querySelector('#df-45ba5bba-f518-45c7-b4be-9421ad2fc700 button.colab-df-convert');\n",
              "        buttonEl.style.display =\n",
              "          google.colab.kernel.accessAllowed ? 'block' : 'none';\n",
              "\n",
              "        async function convertToInteractive(key) {\n",
              "          const element = document.querySelector('#df-45ba5bba-f518-45c7-b4be-9421ad2fc700');\n",
              "          const dataTable =\n",
              "            await google.colab.kernel.invokeFunction('convertToInteractive',\n",
              "                                                     [key], {});\n",
              "          if (!dataTable) return;\n",
              "\n",
              "          const docLinkHtml = 'Like what you see? Visit the ' +\n",
              "            '<a target=\"_blank\" href=https://colab.research.google.com/notebooks/data_table.ipynb>data table notebook</a>'\n",
              "            + ' to learn more about interactive tables.';\n",
              "          element.innerHTML = '';\n",
              "          dataTable['output_type'] = 'display_data';\n",
              "          await google.colab.output.renderOutput(dataTable, element);\n",
              "          const docLink = document.createElement('div');\n",
              "          docLink.innerHTML = docLinkHtml;\n",
              "          element.appendChild(docLink);\n",
              "        }\n",
              "      </script>\n",
              "    </div>\n",
              "  </div>\n",
              "  "
            ]
          },
          "metadata": {},
          "execution_count": 33
        }
      ],
      "source": [
        "dfcpu.head()"
      ]
    },
    {
      "cell_type": "code",
      "execution_count": 34,
      "metadata": {
        "id": "AEDCZT8NVCf6",
        "outputId": "50a786cc-9e9c-46d8-b906-6f409063c23e",
        "colab": {
          "base_uri": "https://localhost:8080/"
        }
      },
      "outputs": [
        {
          "output_type": "stream",
          "name": "stdout",
          "text": [
            "False    17359\n",
            "True       209\n",
            "Name: label, dtype: int64\n",
            "False    0.988103\n",
            "True     0.011897\n",
            "Name: label, dtype: float64\n"
          ]
        }
      ],
      "source": [
        "print(dfcpu.label.value_counts())\n",
        "print(dfcpu.label.value_counts(normalize=True))"
      ]
    },
    {
      "cell_type": "code",
      "execution_count": 35,
      "metadata": {
        "id": "bcWPkN_sVCf6",
        "outputId": "c0e14573-e1e4-47e6-81e9-5e55fb826fe0",
        "colab": {
          "base_uri": "https://localhost:8080/"
        }
      },
      "outputs": [
        {
          "output_type": "stream",
          "name": "stdout",
          "text": [
            "False    17109\n",
            "True       459\n",
            "Name: pred, dtype: int64\n",
            "False    0.973873\n",
            "True     0.026127\n",
            "Name: pred, dtype: float64\n"
          ]
        }
      ],
      "source": [
        "print(dfcpu.pred.value_counts())\n",
        "print(dfcpu.pred.value_counts(normalize=True))"
      ]
    },
    {
      "cell_type": "code",
      "source": [
        "# print(\" Accuracy: \",accuracy_score(dfcpu['label'], dfcpu['pred']))\n",
        "print(\" Recall: \",recall_score(dfcpu['label'], dfcpu['pred']))\n",
        "print(\" Precision: \",precision_score(dfcpu['label'], dfcpu['pred']))"
      ],
      "metadata": {
        "id": "VpkWJFk3Ywve",
        "outputId": "75da56ef-670a-45cf-9989-37907f15a5b9",
        "colab": {
          "base_uri": "https://localhost:8080/"
        }
      },
      "execution_count": 36,
      "outputs": [
        {
          "output_type": "stream",
          "name": "stdout",
          "text": [
            " Recall:  0.5645933014354066\n",
            " Precision:  0.2570806100217865\n"
          ]
        }
      ]
    },
    {
      "cell_type": "code",
      "execution_count": 37,
      "metadata": {
        "id": "vOERLDIqVCf7",
        "outputId": "a8f9e3fc-0eac-4c95-8e23-965e2b971980",
        "colab": {
          "base_uri": "https://localhost:8080/",
          "height": 35
        }
      },
      "outputs": [
        {
          "output_type": "execute_result",
          "data": {
            "text/plain": [
              "'2016-09-23'"
            ],
            "application/vnd.google.colaboratory.intrinsic+json": {
              "type": "string"
            }
          },
          "metadata": {},
          "execution_count": 37
        }
      ],
      "source": [
        "dfcpu.date.max()"
      ]
    },
    {
      "cell_type": "code",
      "execution_count": 38,
      "metadata": {
        "id": "QnkHBKmWVCf8",
        "outputId": "98f3d910-287e-408a-f04e-bcbba382a352",
        "colab": {
          "base_uri": "https://localhost:8080/"
        }
      },
      "outputs": [
        {
          "output_type": "stream",
          "name": "stdout",
          "text": [
            "False    6446\n",
            "True       82\n",
            "Name: pred, dtype: int64\n"
          ]
        }
      ],
      "source": [
        "train = dfcpu.loc[dfcpu.date < '2016-09-01'][['value', 'label', 'pred']]\n",
        "test = dfcpu.loc[dfcpu.date >= '2016-09-01'][['value', 'label', 'pred']]\n",
        "\n",
        "print(test.pred.value_counts())\n",
        "X_train = np.array(train.value).reshape(-1,1)\n",
        "y_train = np.array(train.label)\n",
        "X_test = np.array(test.value).reshape(-1,1) \n",
        "y_test = np.array(test.label)\n",
        "y_pred = np.array(test.pred)\n"
      ]
    },
    {
      "cell_type": "code",
      "source": [
        "fpr, tpr, thresholds = roc_curve(y_test, y_pred)\n",
        "roc_auc = metrics.auc(fpr, tpr)\n",
        "display = metrics.RocCurveDisplay(fpr=fpr, tpr=tpr, roc_auc=roc_auc)\n",
        "display.plot()\n",
        "plt.show()"
      ],
      "metadata": {
        "id": "hIPezqsebmP8",
        "outputId": "9065d160-7367-4dbf-900b-ea75830a044e",
        "colab": {
          "base_uri": "https://localhost:8080/",
          "height": 279
        }
      },
      "execution_count": 39,
      "outputs": [
        {
          "output_type": "display_data",
          "data": {
            "text/plain": [
              "<Figure size 432x288 with 1 Axes>"
            ],
            "image/png": "[encoded data removed]"
          },
          "metadata": {
            "needs_background": "light"
          }
        }
      ]
    }
  ],
  "metadata": {
    "kernelspec": {
      "display_name": "Python 3 (ipykernel)",
      "language": "python",
      "name": "python3"
    },
    "language_info": {
      "codemirror_mode": {
        "name": "ipython",
        "version": 3
      },
      "file_extension": ".py",
      "mimetype": "text/x-python",
      "name": "python",
      "nbconvert_exporter": "python",
      "pygments_lexer": "ipython3",
      "version": "3.9.13"
    },
    "colab": {
      "provenance": []
    }
  },
  "nbformat": 4,
  "nbformat_minor": 0
}