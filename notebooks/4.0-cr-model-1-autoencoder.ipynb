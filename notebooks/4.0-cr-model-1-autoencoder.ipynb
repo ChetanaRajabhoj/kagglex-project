{
 "cells": [
  {
   "cell_type": "code",
   "execution_count": 37,
   "metadata": {},
   "outputs": [],
   "source": [
    "import pandas as pd\n",
    "import numpy as np\n",
    "import tensorflow as tf\n",
    "import matplotlib.pyplot as plt\n",
    "import seaborn as sns\n",
    "from sklearn.model_selection import train_test_split\n",
    "from sklearn.preprocessing import StandardScaler\n",
    "from sklearn.preprocessing import MinMaxScaler\n",
    "from sklearn.metrics import confusion_matrix, recall_score, accuracy_score, precision_score\n",
    "RANDOM_SEED = 123 \n",
    "TEST_PCT = 0.3\n",
    "LABELS = [\"Normal\",\"Anomaly\"]"
   ]
  },
  {
   "cell_type": "code",
   "execution_count": null,
   "metadata": {},
   "outputs": [],
   "source": []
  },
  {
   "cell_type": "code",
   "execution_count": 3,
   "metadata": {},
   "outputs": [],
   "source": [
    "dfcpu = pd.read_csv('../data/processed/cpu4.csv')"
   ]
  },
  {
   "cell_type": "code",
   "execution_count": 4,
   "metadata": {},
   "outputs": [
    {
     "data": {
      "text/html": [
       "<div>\n",
       "<style scoped>\n",
       "    .dataframe tbody tr th:only-of-type {\n",
       "        vertical-align: middle;\n",
       "    }\n",
       "\n",
       "    .dataframe tbody tr th {\n",
       "        vertical-align: top;\n",
       "    }\n",
       "\n",
       "    .dataframe thead th {\n",
       "        text-align: right;\n",
       "    }\n",
       "</style>\n",
       "<table border=\"1\" class=\"dataframe\">\n",
       "  <thead>\n",
       "    <tr style=\"text-align: right;\">\n",
       "      <th></th>\n",
       "      <th>timestamp</th>\n",
       "      <th>value</th>\n",
       "      <th>label</th>\n",
       "      <th>datetime</th>\n",
       "      <th>date</th>\n",
       "      <th>time</th>\n",
       "      <th>day</th>\n",
       "      <th>hour</th>\n",
       "      <th>minute</th>\n",
       "    </tr>\n",
       "  </thead>\n",
       "  <tbody>\n",
       "    <tr>\n",
       "      <th>0</th>\n",
       "      <td>1469376000</td>\n",
       "      <td>0.847300</td>\n",
       "      <td>0</td>\n",
       "      <td>2016-07-24 16:00:00</td>\n",
       "      <td>2016-07-24</td>\n",
       "      <td>16:00:00</td>\n",
       "      <td>Sunday</td>\n",
       "      <td>16</td>\n",
       "      <td>0</td>\n",
       "    </tr>\n",
       "    <tr>\n",
       "      <th>1</th>\n",
       "      <td>1469376300</td>\n",
       "      <td>-0.036137</td>\n",
       "      <td>0</td>\n",
       "      <td>2016-07-24 16:05:00</td>\n",
       "      <td>2016-07-24</td>\n",
       "      <td>16:05:00</td>\n",
       "      <td>Sunday</td>\n",
       "      <td>16</td>\n",
       "      <td>5</td>\n",
       "    </tr>\n",
       "    <tr>\n",
       "      <th>2</th>\n",
       "      <td>1469376600</td>\n",
       "      <td>0.074292</td>\n",
       "      <td>0</td>\n",
       "      <td>2016-07-24 16:10:00</td>\n",
       "      <td>2016-07-24</td>\n",
       "      <td>16:10:00</td>\n",
       "      <td>Sunday</td>\n",
       "      <td>16</td>\n",
       "      <td>10</td>\n",
       "    </tr>\n",
       "    <tr>\n",
       "      <th>3</th>\n",
       "      <td>1469376900</td>\n",
       "      <td>0.074292</td>\n",
       "      <td>0</td>\n",
       "      <td>2016-07-24 16:15:00</td>\n",
       "      <td>2016-07-24</td>\n",
       "      <td>16:15:00</td>\n",
       "      <td>Sunday</td>\n",
       "      <td>16</td>\n",
       "      <td>15</td>\n",
       "    </tr>\n",
       "    <tr>\n",
       "      <th>4</th>\n",
       "      <td>1469377200</td>\n",
       "      <td>-0.036137</td>\n",
       "      <td>0</td>\n",
       "      <td>2016-07-24 16:20:00</td>\n",
       "      <td>2016-07-24</td>\n",
       "      <td>16:20:00</td>\n",
       "      <td>Sunday</td>\n",
       "      <td>16</td>\n",
       "      <td>20</td>\n",
       "    </tr>\n",
       "    <tr>\n",
       "      <th>...</th>\n",
       "      <td>...</td>\n",
       "      <td>...</td>\n",
       "      <td>...</td>\n",
       "      <td>...</td>\n",
       "      <td>...</td>\n",
       "      <td>...</td>\n",
       "      <td>...</td>\n",
       "      <td>...</td>\n",
       "      <td>...</td>\n",
       "    </tr>\n",
       "    <tr>\n",
       "      <th>17563</th>\n",
       "      <td>1474644900</td>\n",
       "      <td>0.074292</td>\n",
       "      <td>0</td>\n",
       "      <td>2016-09-23 15:35:00</td>\n",
       "      <td>2016-09-23</td>\n",
       "      <td>15:35:00</td>\n",
       "      <td>Friday</td>\n",
       "      <td>15</td>\n",
       "      <td>35</td>\n",
       "    </tr>\n",
       "    <tr>\n",
       "      <th>17564</th>\n",
       "      <td>1474645200</td>\n",
       "      <td>0.295152</td>\n",
       "      <td>0</td>\n",
       "      <td>2016-09-23 15:40:00</td>\n",
       "      <td>2016-09-23</td>\n",
       "      <td>15:40:00</td>\n",
       "      <td>Friday</td>\n",
       "      <td>15</td>\n",
       "      <td>40</td>\n",
       "    </tr>\n",
       "    <tr>\n",
       "      <th>17565</th>\n",
       "      <td>1474645500</td>\n",
       "      <td>0.074292</td>\n",
       "      <td>0</td>\n",
       "      <td>2016-09-23 15:45:00</td>\n",
       "      <td>2016-09-23</td>\n",
       "      <td>15:45:00</td>\n",
       "      <td>Friday</td>\n",
       "      <td>15</td>\n",
       "      <td>45</td>\n",
       "    </tr>\n",
       "    <tr>\n",
       "      <th>17566</th>\n",
       "      <td>1474645800</td>\n",
       "      <td>-0.146567</td>\n",
       "      <td>0</td>\n",
       "      <td>2016-09-23 15:50:00</td>\n",
       "      <td>2016-09-23</td>\n",
       "      <td>15:50:00</td>\n",
       "      <td>Friday</td>\n",
       "      <td>15</td>\n",
       "      <td>50</td>\n",
       "    </tr>\n",
       "    <tr>\n",
       "      <th>17567</th>\n",
       "      <td>1474646100</td>\n",
       "      <td>-0.036137</td>\n",
       "      <td>0</td>\n",
       "      <td>2016-09-23 15:55:00</td>\n",
       "      <td>2016-09-23</td>\n",
       "      <td>15:55:00</td>\n",
       "      <td>Friday</td>\n",
       "      <td>15</td>\n",
       "      <td>55</td>\n",
       "    </tr>\n",
       "  </tbody>\n",
       "</table>\n",
       "<p>17568 rows × 9 columns</p>\n",
       "</div>"
      ],
      "text/plain": [
       "        timestamp     value  label             datetime        date      time  \\\n",
       "0      1469376000  0.847300      0  2016-07-24 16:00:00  2016-07-24  16:00:00   \n",
       "1      1469376300 -0.036137      0  2016-07-24 16:05:00  2016-07-24  16:05:00   \n",
       "2      1469376600  0.074292      0  2016-07-24 16:10:00  2016-07-24  16:10:00   \n",
       "3      1469376900  0.074292      0  2016-07-24 16:15:00  2016-07-24  16:15:00   \n",
       "4      1469377200 -0.036137      0  2016-07-24 16:20:00  2016-07-24  16:20:00   \n",
       "...           ...       ...    ...                  ...         ...       ...   \n",
       "17563  1474644900  0.074292      0  2016-09-23 15:35:00  2016-09-23  15:35:00   \n",
       "17564  1474645200  0.295152      0  2016-09-23 15:40:00  2016-09-23  15:40:00   \n",
       "17565  1474645500  0.074292      0  2016-09-23 15:45:00  2016-09-23  15:45:00   \n",
       "17566  1474645800 -0.146567      0  2016-09-23 15:50:00  2016-09-23  15:50:00   \n",
       "17567  1474646100 -0.036137      0  2016-09-23 15:55:00  2016-09-23  15:55:00   \n",
       "\n",
       "          day  hour  minute  \n",
       "0      Sunday    16       0  \n",
       "1      Sunday    16       5  \n",
       "2      Sunday    16      10  \n",
       "3      Sunday    16      15  \n",
       "4      Sunday    16      20  \n",
       "...       ...   ...     ...  \n",
       "17563  Friday    15      35  \n",
       "17564  Friday    15      40  \n",
       "17565  Friday    15      45  \n",
       "17566  Friday    15      50  \n",
       "17567  Friday    15      55  \n",
       "\n",
       "[17568 rows x 9 columns]"
      ]
     },
     "execution_count": 4,
     "metadata": {},
     "output_type": "execute_result"
    }
   ],
   "source": [
    "dfcpu"
   ]
  },
  {
   "cell_type": "code",
   "execution_count": 5,
   "metadata": {},
   "outputs": [
    {
     "name": "stdout",
     "output_type": "stream",
     "text": [
      "0    17359\n",
      "1      209\n",
      "Name: label, dtype: int64 \n",
      " --------------------------\n",
      "in percentage \n",
      " --------------------------\n",
      "0    0.988103\n",
      "1    0.011897\n",
      "Name: label, dtype: float64\n"
     ]
    }
   ],
   "source": [
    "print(dfcpu.label.value_counts(), \"\\n\",\"--------------------------\")\n",
    "print(\"in percentage\", \"\\n\", \"--------------------------\")\n",
    "print(dfcpu.label.value_counts(normalize=True))"
   ]
  },
  {
   "cell_type": "code",
   "execution_count": 18,
   "metadata": {},
   "outputs": [
    {
     "data": {
      "text/html": [
       "<div>\n",
       "<style scoped>\n",
       "    .dataframe tbody tr th:only-of-type {\n",
       "        vertical-align: middle;\n",
       "    }\n",
       "\n",
       "    .dataframe tbody tr th {\n",
       "        vertical-align: top;\n",
       "    }\n",
       "\n",
       "    .dataframe thead th {\n",
       "        text-align: right;\n",
       "    }\n",
       "</style>\n",
       "<table border=\"1\" class=\"dataframe\">\n",
       "  <thead>\n",
       "    <tr style=\"text-align: right;\">\n",
       "      <th></th>\n",
       "      <th>timestamp</th>\n",
       "      <th>value</th>\n",
       "      <th>label</th>\n",
       "    </tr>\n",
       "  </thead>\n",
       "  <tbody>\n",
       "    <tr>\n",
       "      <th>0</th>\n",
       "      <td>1469376000</td>\n",
       "      <td>0.847300</td>\n",
       "      <td>0</td>\n",
       "    </tr>\n",
       "    <tr>\n",
       "      <th>1</th>\n",
       "      <td>1469376300</td>\n",
       "      <td>-0.036137</td>\n",
       "      <td>0</td>\n",
       "    </tr>\n",
       "    <tr>\n",
       "      <th>2</th>\n",
       "      <td>1469376600</td>\n",
       "      <td>0.074292</td>\n",
       "      <td>0</td>\n",
       "    </tr>\n",
       "    <tr>\n",
       "      <th>3</th>\n",
       "      <td>1469376900</td>\n",
       "      <td>0.074292</td>\n",
       "      <td>0</td>\n",
       "    </tr>\n",
       "    <tr>\n",
       "      <th>4</th>\n",
       "      <td>1469377200</td>\n",
       "      <td>-0.036137</td>\n",
       "      <td>0</td>\n",
       "    </tr>\n",
       "    <tr>\n",
       "      <th>...</th>\n",
       "      <td>...</td>\n",
       "      <td>...</td>\n",
       "      <td>...</td>\n",
       "    </tr>\n",
       "    <tr>\n",
       "      <th>17563</th>\n",
       "      <td>1474644900</td>\n",
       "      <td>0.074292</td>\n",
       "      <td>0</td>\n",
       "    </tr>\n",
       "    <tr>\n",
       "      <th>17564</th>\n",
       "      <td>1474645200</td>\n",
       "      <td>0.295152</td>\n",
       "      <td>0</td>\n",
       "    </tr>\n",
       "    <tr>\n",
       "      <th>17565</th>\n",
       "      <td>1474645500</td>\n",
       "      <td>0.074292</td>\n",
       "      <td>0</td>\n",
       "    </tr>\n",
       "    <tr>\n",
       "      <th>17566</th>\n",
       "      <td>1474645800</td>\n",
       "      <td>-0.146567</td>\n",
       "      <td>0</td>\n",
       "    </tr>\n",
       "    <tr>\n",
       "      <th>17567</th>\n",
       "      <td>1474646100</td>\n",
       "      <td>-0.036137</td>\n",
       "      <td>0</td>\n",
       "    </tr>\n",
       "  </tbody>\n",
       "</table>\n",
       "<p>17568 rows × 3 columns</p>\n",
       "</div>"
      ],
      "text/plain": [
       "        timestamp     value  label\n",
       "0      1469376000  0.847300      0\n",
       "1      1469376300 -0.036137      0\n",
       "2      1469376600  0.074292      0\n",
       "3      1469376900  0.074292      0\n",
       "4      1469377200 -0.036137      0\n",
       "...           ...       ...    ...\n",
       "17563  1474644900  0.074292      0\n",
       "17564  1474645200  0.295152      0\n",
       "17565  1474645500  0.074292      0\n",
       "17566  1474645800 -0.146567      0\n",
       "17567  1474646100 -0.036137      0\n",
       "\n",
       "[17568 rows x 3 columns]"
      ]
     },
     "execution_count": 18,
     "metadata": {},
     "output_type": "execute_result"
    }
   ],
   "source": [
    "raw_data = dfcpu[['timestamp','value','label']].copy()\n",
    "raw_data"
   ]
  },
  {
   "cell_type": "code",
   "execution_count": 19,
   "metadata": {},
   "outputs": [
    {
     "data": {
      "text/html": [
       "<div>\n",
       "<style scoped>\n",
       "    .dataframe tbody tr th:only-of-type {\n",
       "        vertical-align: middle;\n",
       "    }\n",
       "\n",
       "    .dataframe tbody tr th {\n",
       "        vertical-align: top;\n",
       "    }\n",
       "\n",
       "    .dataframe thead th {\n",
       "        text-align: right;\n",
       "    }\n",
       "</style>\n",
       "<table border=\"1\" class=\"dataframe\">\n",
       "  <thead>\n",
       "    <tr style=\"text-align: right;\">\n",
       "      <th></th>\n",
       "      <th>timestamp</th>\n",
       "      <th>value</th>\n",
       "      <th>label</th>\n",
       "    </tr>\n",
       "  </thead>\n",
       "  <tbody>\n",
       "    <tr>\n",
       "      <th>0</th>\n",
       "      <td>0.000000</td>\n",
       "      <td>0.450980</td>\n",
       "      <td>0</td>\n",
       "    </tr>\n",
       "    <tr>\n",
       "      <th>1</th>\n",
       "      <td>0.000057</td>\n",
       "      <td>0.294118</td>\n",
       "      <td>0</td>\n",
       "    </tr>\n",
       "    <tr>\n",
       "      <th>2</th>\n",
       "      <td>0.000114</td>\n",
       "      <td>0.313725</td>\n",
       "      <td>0</td>\n",
       "    </tr>\n",
       "    <tr>\n",
       "      <th>3</th>\n",
       "      <td>0.000171</td>\n",
       "      <td>0.313725</td>\n",
       "      <td>0</td>\n",
       "    </tr>\n",
       "    <tr>\n",
       "      <th>4</th>\n",
       "      <td>0.000228</td>\n",
       "      <td>0.294118</td>\n",
       "      <td>0</td>\n",
       "    </tr>\n",
       "    <tr>\n",
       "      <th>...</th>\n",
       "      <td>...</td>\n",
       "      <td>...</td>\n",
       "      <td>...</td>\n",
       "    </tr>\n",
       "    <tr>\n",
       "      <th>17563</th>\n",
       "      <td>0.999772</td>\n",
       "      <td>0.313725</td>\n",
       "      <td>0</td>\n",
       "    </tr>\n",
       "    <tr>\n",
       "      <th>17564</th>\n",
       "      <td>0.999829</td>\n",
       "      <td>0.352941</td>\n",
       "      <td>0</td>\n",
       "    </tr>\n",
       "    <tr>\n",
       "      <th>17565</th>\n",
       "      <td>0.999886</td>\n",
       "      <td>0.313725</td>\n",
       "      <td>0</td>\n",
       "    </tr>\n",
       "    <tr>\n",
       "      <th>17566</th>\n",
       "      <td>0.999943</td>\n",
       "      <td>0.274510</td>\n",
       "      <td>0</td>\n",
       "    </tr>\n",
       "    <tr>\n",
       "      <th>17567</th>\n",
       "      <td>1.000000</td>\n",
       "      <td>0.294118</td>\n",
       "      <td>0</td>\n",
       "    </tr>\n",
       "  </tbody>\n",
       "</table>\n",
       "<p>17568 rows × 3 columns</p>\n",
       "</div>"
      ],
      "text/plain": [
       "       timestamp     value  label\n",
       "0       0.000000  0.450980      0\n",
       "1       0.000057  0.294118      0\n",
       "2       0.000114  0.313725      0\n",
       "3       0.000171  0.313725      0\n",
       "4       0.000228  0.294118      0\n",
       "...          ...       ...    ...\n",
       "17563   0.999772  0.313725      0\n",
       "17564   0.999829  0.352941      0\n",
       "17565   0.999886  0.313725      0\n",
       "17566   0.999943  0.274510      0\n",
       "17567   1.000000  0.294118      0\n",
       "\n",
       "[17568 rows x 3 columns]"
      ]
     },
     "execution_count": 19,
     "metadata": {},
     "output_type": "execute_result"
    }
   ],
   "source": [
    "# sc=StandardScaler()\n",
    "\n",
    "scaler = MinMaxScaler(feature_range=(0, 1))\n",
    "\n",
    "raw_data['timestamp'] = scaler.fit_transform(raw_data['timestamp'].values.reshape(-1, 1))\n",
    "raw_data['value'] = scaler.fit_transform(raw_data['value'].values.reshape(-1, 1))\n",
    "\n",
    "raw_data"
   ]
  },
  {
   "cell_type": "code",
   "execution_count": 21,
   "metadata": {},
   "outputs": [
    {
     "data": {
      "text/plain": [
       "array([0., 0., 0., ..., 0., 0., 0.])"
      ]
     },
     "execution_count": 21,
     "metadata": {},
     "output_type": "execute_result"
    }
   ],
   "source": [
    "raw_data = raw_data.values\n",
    "labels = raw_data[:,-1]\n",
    "labels"
   ]
  },
  {
   "cell_type": "code",
   "execution_count": 22,
   "metadata": {},
   "outputs": [
    {
     "data": {
      "text/plain": [
       "array([[0.00000000e+00, 4.50980392e-01],\n",
       "       [5.69249161e-05, 2.94117647e-01],\n",
       "       [1.13849832e-04, 3.13725490e-01],\n",
       "       ...,\n",
       "       [9.99886150e-01, 3.13725490e-01],\n",
       "       [9.99943075e-01, 2.74509804e-01],\n",
       "       [1.00000000e+00, 2.94117647e-01]])"
      ]
     },
     "execution_count": 22,
     "metadata": {},
     "output_type": "execute_result"
    }
   ],
   "source": [
    "data = raw_data[:, 0:-1]\n",
    "data"
   ]
  },
  {
   "cell_type": "code",
   "execution_count": 23,
   "metadata": {},
   "outputs": [],
   "source": [
    "train_data, test_data, train_labels, test_labels = train_test_split(\n",
    "    data, labels, test_size=0.2, random_state=RANDOM_SEED\n",
    ")"
   ]
  },
  {
   "cell_type": "code",
   "execution_count": 25,
   "metadata": {},
   "outputs": [
    {
     "name": "stdout",
     "output_type": "stream",
     "text": [
      " No. of records in Anomaly Train Data= 156\n",
      " No. of records in Normal Train data= 13898\n",
      " No. of records in Anomaly Test Data= 53\n",
      " No. of records in Normal Test data= 53\n"
     ]
    }
   ],
   "source": [
    "train_labels = train_labels.astype(bool)\n",
    "test_labels = test_labels.astype(bool)\n",
    "#creating normal and fraud datasets\n",
    "normal_train_data = train_data[~train_labels]\n",
    "normal_test_data = test_data[~test_labels]\n",
    "anomaly_train_data = train_data[train_labels]\n",
    "anomaly_test_data = test_data[test_labels]\n",
    "print(\" No. of records in Anomaly Train Data=\",len(anomaly_train_data))\n",
    "print(\" No. of records in Normal Train data=\",len(normal_train_data))\n",
    "print(\" No. of records in Anomaly Test Data=\",len(fraud_test_data))\n",
    "print(\" No. of records in Normal Test data=\",len(anomaly_test_data))"
   ]
  },
  {
   "cell_type": "code",
   "execution_count": 26,
   "metadata": {},
   "outputs": [],
   "source": [
    "nb_epoch = 50\n",
    "batch_size = 64\n",
    "input_dim = normal_train_data.shape[1] #num of columns, 30\n",
    "encoding_dim = 14\n",
    "hidden_dim_1 = int(encoding_dim / 2) #\n",
    "hidden_dim_2=4  \n",
    "learning_rate = 1e-7"
   ]
  },
  {
   "cell_type": "code",
   "execution_count": 27,
   "metadata": {},
   "outputs": [
    {
     "name": "stdout",
     "output_type": "stream",
     "text": [
      "Model: \"model\"\n",
      "_________________________________________________________________\n",
      " Layer (type)                Output Shape              Param #   \n",
      "=================================================================\n",
      " input_1 (InputLayer)        [(None, 2)]               0         \n",
      "                                                                 \n",
      " dense (Dense)               (None, 14)                42        \n",
      "                                                                 \n",
      " dropout (Dropout)           (None, 14)                0         \n",
      "                                                                 \n",
      " dense_1 (Dense)             (None, 7)                 105       \n",
      "                                                                 \n",
      " dense_2 (Dense)             (None, 4)                 32        \n",
      "                                                                 \n",
      " dense_3 (Dense)             (None, 7)                 35        \n",
      "                                                                 \n",
      " dropout_1 (Dropout)         (None, 7)                 0         \n",
      "                                                                 \n",
      " dense_4 (Dense)             (None, 14)                112       \n",
      "                                                                 \n",
      " dense_5 (Dense)             (None, 2)                 30        \n",
      "                                                                 \n",
      "=================================================================\n",
      "Total params: 356\n",
      "Trainable params: 356\n",
      "Non-trainable params: 0\n",
      "_________________________________________________________________\n"
     ]
    }
   ],
   "source": [
    "#input Layer\n",
    "input_layer = tf.keras.layers.Input(shape=(input_dim, ))\n",
    "#Encoder\n",
    "encoder = tf.keras.layers.Dense(encoding_dim, activation=\"tanh\",                                activity_regularizer=tf.keras.regularizers.l2(learning_rate))(input_layer)\n",
    "encoder=tf.keras.layers.Dropout(0.2)(encoder)\n",
    "encoder = tf.keras.layers.Dense(hidden_dim_1, activation='relu')(encoder)\n",
    "encoder = tf.keras.layers.Dense(hidden_dim_2, activation=tf.nn.leaky_relu)(encoder)\n",
    "# Decoder\n",
    "decoder = tf.keras.layers.Dense(hidden_dim_1, activation='relu')(encoder)\n",
    "decoder=tf.keras.layers.Dropout(0.2)(decoder)\n",
    "decoder = tf.keras.layers.Dense(encoding_dim, activation='relu')(decoder)\n",
    "decoder = tf.keras.layers.Dense(input_dim, activation='tanh')(decoder)\n",
    "#Autoencoder\n",
    "autoencoder = tf.keras.Model(inputs=input_layer, outputs=decoder)\n",
    "autoencoder.summary()"
   ]
  },
  {
   "cell_type": "code",
   "execution_count": 30,
   "metadata": {},
   "outputs": [],
   "source": [
    "cp = tf.keras.callbacks.ModelCheckpoint(filepath=\"autoencoder_fraud.h5\",mode='min', monitor='val_loss', verbose=2, save_best_only=True)\n",
    "# define our early stopping\n",
    "early_stop = tf.keras.callbacks.EarlyStopping(\n",
    "    monitor='val_loss',\n",
    "    min_delta=0.0001,\n",
    "    patience=10,\n",
    "    verbose=1, \n",
    "    mode='min',\n",
    "    restore_best_weights=True)"
   ]
  },
  {
   "cell_type": "code",
   "execution_count": 31,
   "metadata": {},
   "outputs": [],
   "source": [
    "autoencoder.compile(metrics=['accuracy'],\n",
    "                    loss='mean_squared_error',\n",
    "                    optimizer='adam')"
   ]
  },
  {
   "cell_type": "code",
   "execution_count": 32,
   "metadata": {},
   "outputs": [
    {
     "name": "stdout",
     "output_type": "stream",
     "text": [
      "Epoch 1/50\n",
      "206/218 [===========================>..] - ETA: 0s - loss: 0.0592 - accuracy: 0.6848\n",
      "Epoch 1: val_loss improved from inf to 0.00946, saving model to autoencoder_fraud.h5\n",
      "218/218 [==============================] - 4s 8ms/step - loss: 0.0570 - accuracy: 0.6955 - val_loss: 0.0095 - val_accuracy: 0.9471\n",
      "Epoch 2/50\n",
      "215/218 [============================>.] - ETA: 0s - loss: 0.0133 - accuracy: 0.9042\n",
      "Epoch 2: val_loss improved from 0.00946 to 0.00341, saving model to autoencoder_fraud.h5\n",
      "218/218 [==============================] - 1s 5ms/step - loss: 0.0133 - accuracy: 0.9042 - val_loss: 0.0034 - val_accuracy: 0.9795\n",
      "Epoch 3/50\n",
      "218/218 [==============================] - ETA: 0s - loss: 0.0083 - accuracy: 0.9181\n",
      "Epoch 3: val_loss did not improve from 0.00341\n",
      "218/218 [==============================] - 1s 5ms/step - loss: 0.0083 - accuracy: 0.9181 - val_loss: 0.0035 - val_accuracy: 0.9647\n",
      "Epoch 4/50\n",
      "216/218 [============================>.] - ETA: 0s - loss: 0.0067 - accuracy: 0.9206\n",
      "Epoch 4: val_loss did not improve from 0.00341\n",
      "218/218 [==============================] - 1s 4ms/step - loss: 0.0066 - accuracy: 0.9208 - val_loss: 0.0034 - val_accuracy: 0.9587\n",
      "Epoch 5/50\n",
      "210/218 [===========================>..] - ETA: 0s - loss: 0.0059 - accuracy: 0.9359\n",
      "Epoch 5: val_loss improved from 0.00341 to 0.00307, saving model to autoencoder_fraud.h5\n",
      "218/218 [==============================] - 1s 5ms/step - loss: 0.0059 - accuracy: 0.9359 - val_loss: 0.0031 - val_accuracy: 0.9619\n",
      "Epoch 6/50\n",
      "205/218 [===========================>..] - ETA: 0s - loss: 0.0055 - accuracy: 0.9388\n",
      "Epoch 6: val_loss did not improve from 0.00307\n",
      "218/218 [==============================] - 1s 5ms/step - loss: 0.0055 - accuracy: 0.9391 - val_loss: 0.0036 - val_accuracy: 0.9559\n",
      "Epoch 7/50\n",
      "216/218 [============================>.] - ETA: 0s - loss: 0.0049 - accuracy: 0.9429\n",
      "Epoch 7: val_loss did not improve from 0.00307\n",
      "218/218 [==============================] - 1s 5ms/step - loss: 0.0049 - accuracy: 0.9432 - val_loss: 0.0036 - val_accuracy: 0.9559\n",
      "Epoch 8/50\n",
      "208/218 [===========================>..] - ETA: 0s - loss: 0.0044 - accuracy: 0.9440\n",
      "Epoch 8: val_loss did not improve from 0.00307\n",
      "218/218 [==============================] - 1s 5ms/step - loss: 0.0044 - accuracy: 0.9445 - val_loss: 0.0035 - val_accuracy: 0.9582\n",
      "Epoch 9/50\n",
      "207/218 [===========================>..] - ETA: 0s - loss: 0.0042 - accuracy: 0.9453\n",
      "Epoch 9: val_loss did not improve from 0.00307\n",
      "218/218 [==============================] - 1s 5ms/step - loss: 0.0042 - accuracy: 0.9458 - val_loss: 0.0041 - val_accuracy: 0.9451\n",
      "Epoch 10/50\n",
      "216/218 [============================>.] - ETA: 0s - loss: 0.0040 - accuracy: 0.9444\n",
      "Epoch 10: val_loss did not improve from 0.00307\n",
      "218/218 [==============================] - 1s 5ms/step - loss: 0.0040 - accuracy: 0.9443 - val_loss: 0.0043 - val_accuracy: 0.9516\n",
      "Epoch 11/50\n",
      "207/218 [===========================>..] - ETA: 0s - loss: 0.0037 - accuracy: 0.9460\n",
      "Epoch 11: val_loss did not improve from 0.00307\n",
      "218/218 [==============================] - 1s 4ms/step - loss: 0.0037 - accuracy: 0.9461 - val_loss: 0.0043 - val_accuracy: 0.9619\n",
      "Epoch 12/50\n",
      "211/218 [============================>.] - ETA: 0s - loss: 0.0037 - accuracy: 0.9504\n",
      "Epoch 12: val_loss did not improve from 0.00307\n",
      "218/218 [==============================] - 1s 6ms/step - loss: 0.0037 - accuracy: 0.9501 - val_loss: 0.0049 - val_accuracy: 0.9516\n",
      "Epoch 13/50\n",
      "214/218 [============================>.] - ETA: 0s - loss: 0.0033 - accuracy: 0.9514\n",
      "Epoch 13: val_loss did not improve from 0.00307\n",
      "218/218 [==============================] - 1s 5ms/step - loss: 0.0033 - accuracy: 0.9513 - val_loss: 0.0046 - val_accuracy: 0.9479\n",
      "Epoch 14/50\n",
      "211/218 [============================>.] - ETA: 0s - loss: 0.0034 - accuracy: 0.9496\n",
      "Epoch 14: val_loss did not improve from 0.00307\n",
      "218/218 [==============================] - 1s 6ms/step - loss: 0.0033 - accuracy: 0.9497 - val_loss: 0.0045 - val_accuracy: 0.9533\n",
      "Epoch 15/50\n",
      "209/218 [===========================>..] - ETA: 0s - loss: 0.0032 - accuracy: 0.9497\n",
      "Epoch 15: val_loss did not improve from 0.00307\n",
      "Restoring model weights from the end of the best epoch: 5.\n",
      "218/218 [==============================] - 1s 5ms/step - loss: 0.0032 - accuracy: 0.9496 - val_loss: 0.0051 - val_accuracy: 0.9459\n",
      "Epoch 15: early stopping\n"
     ]
    }
   ],
   "source": [
    "history = autoencoder.fit(normal_train_data, normal_train_data,\n",
    "                    epochs=nb_epoch,\n",
    "                    batch_size=batch_size,\n",
    "                    shuffle=True,\n",
    "                    validation_data=(test_data, test_data),\n",
    "                    verbose=1,\n",
    "                    callbacks=[cp, early_stop]\n",
    "                    ).history"
   ]
  },
  {
   "cell_type": "code",
   "execution_count": 33,
   "metadata": {},
   "outputs": [
    {
     "data": {
      "image/png": "[encoded data removed]",
      "text/plain": [
       "<Figure size 640x480 with 1 Axes>"
      ]
     },
     "metadata": {},
     "output_type": "display_data"
    }
   ],
   "source": [
    "plt.plot(history['loss'], linewidth=2, label='Train')\n",
    "plt.plot(history['val_loss'], linewidth=2, label='Test')\n",
    "plt.legend(loc='upper right')\n",
    "plt.title('Model loss')\n",
    "plt.ylabel('Loss')\n",
    "plt.xlabel('Epoch')\n",
    "#plt.ylim(ymin=0.70,ymax=1)\n",
    "plt.show()"
   ]
  },
  {
   "cell_type": "code",
   "execution_count": 34,
   "metadata": {},
   "outputs": [
    {
     "name": "stdout",
     "output_type": "stream",
     "text": [
      "110/110 [==============================] - 1s 3ms/step\n"
     ]
    }
   ],
   "source": [
    "test_x_predictions = autoencoder.predict(test_data)\n",
    "mse = np.mean(np.power(test_data - test_x_predictions, 2), axis=1)\n",
    "error_df = pd.DataFrame({'Reconstruction_error': mse,\n",
    "                        'True_class': test_labels})"
   ]
  },
  {
   "cell_type": "code",
   "execution_count": 44,
   "metadata": {},
   "outputs": [
    {
     "data": {
      "image/png": "[encoded data removed]",
      "text/plain": [
       "<Figure size 640x480 with 1 Axes>"
      ]
     },
     "metadata": {},
     "output_type": "display_data"
    }
   ],
   "source": [
    "threshold_fixed = 0.013\n",
    "groups = error_df.groupby('True_class')\n",
    "fig, ax = plt.subplots()\n",
    "for name, group in groups:\n",
    "    ax.plot(group.index, group.Reconstruction_error, marker='o', ms=3.5, linestyle='',\n",
    "            label= \"Fraud\" if name == 1 else \"Normal\")\n",
    "ax.hlines(threshold_fixed, ax.get_xlim()[0], ax.get_xlim()[1], colors=\"r\", zorder=100, label='Threshold')\n",
    "ax.legend()\n",
    "plt.title(\"Reconstruction error for normal and fraud data\")\n",
    "plt.ylabel(\"Reconstruction error\")\n",
    "plt.xlabel(\"Data point index\")\n",
    "plt.show();"
   ]
  },
  {
   "cell_type": "code",
   "execution_count": 47,
   "metadata": {},
   "outputs": [
    {
     "data": {
      "image/png": "[encoded data removed]",
      "text/plain": [
       "<Figure size 400x400 with 2 Axes>"
      ]
     },
     "metadata": {},
     "output_type": "display_data"
    },
    {
     "name": "stdout",
     "output_type": "stream",
     "text": [
      " Accuracy:  0.9775184974388161\n",
      " Recall:  0.2830188679245283\n",
      " Precision:  0.26785714285714285\n"
     ]
    }
   ],
   "source": [
    "threshold_fixed =0.013\n",
    "pred_y = [1 if e > threshold_fixed else 0 for e in error_df.Reconstruction_error.values]\n",
    "error_df['pred'] =pred_y\n",
    "conf_matrix = confusion_matrix(error_df.True_class, pred_y)\n",
    "plt.figure(figsize=(4, 4))\n",
    "sns.heatmap(conf_matrix, xticklabels=LABELS, yticklabels=LABELS, annot=True, fmt=\"d\");\n",
    "plt.title(\"Confusion matrix\")\n",
    "plt.ylabel('True class')\n",
    "plt.xlabel('Predicted class')\n",
    "plt.show()\n",
    "# print Accuracy, precision and recall\n",
    "print(\" Accuracy: \",accuracy_score(error_df['True_class'], error_df['pred']))\n",
    "print(\" Recall: \",recall_score(error_df['True_class'], error_df['pred']))\n",
    "print(\" Precision: \",precision_score(error_df['True_class'], error_df['pred']))"
   ]
  },
  {
   "cell_type": "code",
   "execution_count": null,
   "metadata": {},
   "outputs": [],
   "source": []
  }
 ],
 "metadata": {
  "kernelspec": {
   "display_name": "Python 3 (ipykernel)",
   "language": "python",
   "name": "python3"
  },
  "language_info": {
   "codemirror_mode": {
    "name": "ipython",
    "version": 3
   },
   "file_extension": ".py",
   "mimetype": "text/x-python",
   "name": "python",
   "nbconvert_exporter": "python",
   "pygments_lexer": "ipython3",
   "version": "3.9.13"
  }
 },
 "nbformat": 4,
 "nbformat_minor": 4
}
